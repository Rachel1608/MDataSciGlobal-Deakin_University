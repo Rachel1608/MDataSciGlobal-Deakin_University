{
 "cells": [
  {
   "cell_type": "markdown",
   "id": "61624592",
   "metadata": {},
   "source": [
    "# DATA WRANGLING ON BIT COIN USD\n",
    "\n",
    "* **NAME:** M.Rachel\n",
    "* **STUDENT NUMBER:** 224234147\n",
    "* **EMAIL-ID:** rachelriney1608@gmail.com"
   ]
  },
  {
   "cell_type": "markdown",
   "id": "149dcb4f",
   "metadata": {},
   "source": [
    "## INTRODUCTION\n",
    "\n",
    "[Bitcoin](https://www.bing.com/ck/a?!&&p=7565875a0debe8e4JmltdHM9MTcwNzAwNDgwMCZpZ3VpZD0wNDk3ODNmMS04OGNkLTY3YTMtMGNiYi05N2ViODk3ZjY2MjcmaW5zaWQ9NTIyOQ&ptn=3&ver=2&hsh=3&fclid=049783f1-88cd-67a3-0cbb-97eb897f6627&psq=Bit+coin+USD&u=a1aHR0cHM6Ly9jb2lubWFya2V0Y2FwLmNvbS9jdXJyZW5jaWVzL2JpdGNvaW4v&ntb=1) is a *decentralized cryptocurrency* originally described in a 2008 whitepaper by a person, or group of people, using the alias Satoshi Nakamoto. It was launched soon after, in January 2009.\n",
    "\n",
    "Bitcoin is a peer-to-peer online currency, meaning that all transactions happen directly between *equal, independent network participants, without the need for any intermediary to permit or facilitate them*."
   ]
  },
  {
   "cell_type": "code",
   "execution_count": 1,
   "id": "84340fac",
   "metadata": {},
   "outputs": [],
   "source": [
    "#Importing the necessary Libraries for analysing the bit coin data\n",
    "import numpy as np\n",
    "import matplotlib.pyplot as plt"
   ]
  },
  {
   "cell_type": "markdown",
   "id": "b96cb3ce",
   "metadata": {},
   "source": [
    "## Dataset \n",
    "\n",
    "Bitcoin data is taken from the ***01/01/2023 - 02/02/2024*** <https://finance.yahoo.com/quote/BTC-USD/history?period1=1672531200&period2=1706832000&interval=1d&filter=history&frequency=1d&includeAdjustedClose=true>\n",
    "\n",
    "* All columns manually removed except *close* column along with the label."
   ]
  },
  {
   "cell_type": "code",
   "execution_count": 2,
   "id": "637467a8",
   "metadata": {},
   "outputs": [],
   "source": [
    "# loading the data with numpy builtin function np.loadtxt\n",
    "data = np.loadtxt(\"BTC-USD.csv\")"
   ]
  },
  {
   "cell_type": "code",
   "execution_count": 3,
   "id": "759f0dda",
   "metadata": {},
   "outputs": [
    {
     "data": {
      "text/plain": [
       "array([16625.08008, 16688.4707 , 16679.85742, 16863.23828, 16836.73633,\n",
       "       16951.96875, 16955.07813, 17091.14453, 17196.55469, 17446.29297,\n",
       "       17934.89648, 18869.58789, 19909.57422, 20976.29883, 20880.79883,\n",
       "       21169.63281, 21161.51953, 20688.78125, 21086.79297, 22676.55273,\n",
       "       22777.625  , 22720.41602, 22934.43164, 22636.46875, 23117.85938,\n",
       "       23032.77734, 23078.72852, 23031.08984, 23774.56641, 22840.13867,\n",
       "       23139.2832 , 23723.76953, 23471.87109, 23449.32227, 23331.84766,\n",
       "       22955.66602, 22760.10938, 23264.29102, 22939.39844, 21819.03906,\n",
       "       21651.18359, 21870.875  , 21788.20313, 21808.10156, 22220.80469,\n",
       "       24307.8418 , 23623.47461, 24565.60156, 24641.27734, 24327.64258,\n",
       "       24829.14844, 24436.35352, 24188.84375, 23947.49219, 23198.12695,\n",
       "       23175.375  , 23561.21289, 23522.87109, 23147.35352, 23646.55078,\n",
       "       23475.4668 , 22362.67969, 22353.34961, 22435.51367, 22429.75781,\n",
       "       22219.76953, 21718.08008, 20363.02148, 20187.24414, 20632.41016,\n",
       "       22163.94922, 24197.5332 , 24746.07422, 24375.96094, 25052.78906,\n",
       "       27423.92969, 26965.87891, 28038.67578, 27767.23633, 28175.81641,\n",
       "       27307.4375 , 28333.97266, 27493.28516, 27494.70703, 27994.33008,\n",
       "       27139.88867, 27268.13086, 28348.44141, 28033.5625 , 28478.48438,\n",
       "       28411.03516, 28199.30859, 27790.2207 , 28168.08984, 28177.98438,\n",
       "       28044.14063, 27925.85938, 27947.79492, 28333.05078, 29652.98047,\n",
       "       30235.05859, 30139.05273, 30399.06641, 30485.69922, 30318.49609,\n",
       "       30315.35547, 29445.04492, 30397.55273, 28822.67969, 28245.98828,\n",
       "       27276.91016, 27817.5    , 27591.38477, 27525.33984, 28307.59766,\n",
       "       28422.70117, 29473.78711, 29340.26172, 29248.48828, 29268.80664,\n",
       "       28091.56836, 28680.53711, 29006.30859, 28847.71094, 29534.38477,\n",
       "       28904.62305, 28454.97852, 27694.27344, 27658.77539, 27621.75586,\n",
       "       27000.78906, 26804.99023, 26784.07813, 26930.63867, 27192.69336,\n",
       "       27036.65039, 27398.80273, 26832.20898, 26890.12891, 27129.58594,\n",
       "       26753.82617, 26851.27734, 27225.72656, 26334.81836, 26476.20703,\n",
       "       26719.29102, 26868.35352, 28085.64648, 27745.88477, 27702.34961,\n",
       "       27219.6582 , 26819.97266, 27249.58984, 27075.12891, 27119.06641,\n",
       "       25760.09766, 27238.7832 , 26345.99805, 26508.2168 , 26480.375  ,\n",
       "       25851.24023, 25940.16797, 25902.5    , 25918.72852, 25124.67578,\n",
       "       25576.39453, 26327.46289, 26510.67578, 26336.21289, 26851.0293 ,\n",
       "       28327.48828, 30027.29688, 29912.28125, 30695.46875, 30548.69531,\n",
       "       30480.26172, 30271.13086, 30688.16406, 30086.24609, 30445.35156,\n",
       "       30477.25195, 30590.07813, 30620.76953, 31156.43945, 30777.58203,\n",
       "       30514.16602, 29909.33789, 30342.26563, 30292.54102, 30171.23438,\n",
       "       30414.4707 , 30620.95117, 30391.64648, 31476.04883, 30334.06836,\n",
       "       30295.80664, 30249.13281, 30145.88867, 29856.5625 , 29913.92383,\n",
       "       29792.01563, 29908.74414, 29771.80273, 30084.53906, 29176.91602,\n",
       "       29227.39063, 29354.97266, 29210.68945, 29319.24609, 29356.91797,\n",
       "       29275.30859, 29230.11133, 29675.73242, 29151.95898, 29178.67969,\n",
       "       29074.0918 , 29042.12695, 29041.85547, 29180.57813, 29765.49219,\n",
       "       29561.49414, 29429.5918 , 29397.71484, 29415.96484, 29282.91406,\n",
       "       29408.44336, 29170.34766, 28701.7793 , 26664.55078, 26049.55664,\n",
       "       26096.20508, 26189.58398, 26124.14063, 26031.65625, 26431.64063,\n",
       "       26162.37305, 26047.66797, 26008.46289, 26089.69336, 26106.15039,\n",
       "       27727.39258, 27297.26563, 25931.47266, 25800.72461, 25868.79883,\n",
       "       25969.56641, 25812.41602, 25779.98242, 25753.23633, 26240.19531,\n",
       "       25905.6543 , 25895.67773, 25832.22656, 25162.6543 , 25833.34375,\n",
       "       26228.32422, 26539.67383, 26608.69336, 26568.28125, 26534.1875 ,\n",
       "       26754.28125, 27211.11719, 27132.00781, 26567.63281, 26579.56836,\n",
       "       26579.39063, 26256.82617, 26298.48047, 26217.25   , 26352.7168 ,\n",
       "       27021.54688, 26911.7207 , 26967.91602, 27983.75   , 27530.78516,\n",
       "       27429.97852, 27799.39453, 27415.91211, 27946.59766, 27968.83984,\n",
       "       27935.08984, 27583.67773, 27391.01953, 26873.32031, 26756.79883,\n",
       "       26862.375  , 26861.70703, 27159.65234, 28519.4668 , 28415.74805,\n",
       "       28328.3418 , 28719.80664, 29682.94922, 29918.41211, 29993.89648,\n",
       "       33086.23438, 33901.52734, 34502.82031, 34156.64844, 33909.80078,\n",
       "       34089.57422, 34538.48047, 34502.36328, 34667.78125, 35437.25391,\n",
       "       34938.24219, 34732.32422, 35082.19531, 35049.35547, 35037.37109,\n",
       "       35443.5625 , 35655.27734, 36693.125  , 37313.96875, 37138.05078,\n",
       "       37054.51953, 36502.35547, 35537.64063, 37880.58203, 36154.76953,\n",
       "       36596.68359, 36585.70313, 37386.54688, 37476.95703, 35813.8125 ,\n",
       "       37432.33984, 37289.62109, 37720.28125, 37796.79297, 37479.12109,\n",
       "       37254.16797, 37831.08594, 37858.49219, 37712.74609, 38688.75   ,\n",
       "       39476.33203, 39978.39063, 41980.09766, 44080.64844, 43746.44531,\n",
       "       43292.66406, 44166.60156, 43725.98438, 43779.69922, 41243.83203,\n",
       "       41450.22266, 42890.74219, 43023.97266, 41929.75781, 42240.11719,\n",
       "       41364.66406, 42623.53906, 42270.52734, 43652.25   , 43869.15234,\n",
       "       43997.90234, 43739.54297, 43016.11719, 43613.14063, 42520.40234,\n",
       "       43442.85547, 42627.85547, 42099.40234, 42156.90234, 42265.1875 ,\n",
       "       44167.33203, 44957.96875, 42848.17578, 44179.92188, 44162.69141,\n",
       "       43989.19531, 43943.09766, 46970.50391, 46139.73047, 46627.77734,\n",
       "       46368.58594, 42853.16797, 42842.38281, 41796.26953, 42511.96875,\n",
       "       43154.94531, 42742.65234, 41262.05859, 41618.40625, 41665.58594,\n",
       "       41545.78516, 39507.36719, 39845.55078, 40077.07422, 39933.80859,\n",
       "       41816.87109, 42120.05469, 42035.59375, 43288.24609, 42952.60938,\n",
       "       42582.60547, 43075.77344, 43185.85938])"
      ]
     },
     "execution_count": 3,
     "metadata": {},
     "output_type": "execute_result"
    }
   ],
   "source": [
    "# array consists of close column bitcoin data \n",
    "data"
   ]
  },
  {
   "cell_type": "code",
   "execution_count": 4,
   "id": "93eaa27c",
   "metadata": {},
   "outputs": [
    {
     "name": "stdout",
     "output_type": "stream",
     "text": [
      "Arithmetic Mean: 28063.86989241758\n",
      "Minimum: 25162.6543\n",
      "The First quartile: 26222.787109999997\n",
      "Median: 28701.7793\n",
      "The Third quartile: 29720.612305000002\n",
      "Maximum: 31476.04883\n",
      "Standard deviation: 1818.0736655487683\n",
      "Interquartile range: 3497.825195000005\n"
     ]
    }
   ],
   "source": [
    "# Printing Aggregation Function with third quarter of the year 2023 (182-273days,inclusive) using Numpy\n",
    "Q3_data = data[182:273] # days range of 3rd quarter of the year\n",
    "print(f\"Arithmetic Mean:\",np.mean(Q3_data))  # Arithmetic Mean of Data\n",
    "print(f\"Minimum:\",np.min(Q3_data)) # Minimum of Data\n",
    "print(f\"The First quartile:\",np.quantile(Q3_data,0.25)) # First quantile of Data\n",
    "print(f\"Median:\",np.median(Q3_data)) # Median of Data\n",
    "print(f\"The Third quartile:\",np.quantile(Q3_data,0.75)) # Third Quantile of Data\n",
    "print(f\"Maximum:\",np.max(Q3_data)) # Maximum value of Data\n",
    "print(f\"Standard deviation:\",np.std(Q3_data)) #Standard Deviation of Data\n",
    "print(f\"Interquartile range:\",np.quantile(Q3_data, 0.75)-np.quantile(Q3_data, 0.25)) #InterQuartile range of Data"
   ]
  },
  {
   "cell_type": "code",
   "execution_count": 5,
   "id": "6c1767db",
   "metadata": {},
   "outputs": [
    {
     "data": {
      "image/png": "[encoded data removed]",
      "text/plain": [
       "<Figure size 432x288 with 1 Axes>"
      ]
     },
     "metadata": {
      "needs_background": "light"
     },
     "output_type": "display_data"
    }
   ],
   "source": [
    "# Creating a list of days from July 1 to September 30 (a total of 92 days in Q3)\n",
    "days = list(range(182, 273))  # 182 denotes 1 July\n",
    "\n",
    "# Creating a list of corresponding rates for each day in Q3_data\n",
    "rates = Q3_data[:273]  \n",
    "\n",
    "# Call matplotlib.pyplot.plot() to draw the line graph with red color and solid line segments\n",
    "plt.plot(days, rates, color='red', linestyle='-')\n",
    "\n",
    "# Add a plot title\n",
    "plt.title('Q3 2023 Data (182 denotes 1 July)')\n",
    "\n",
    "# Display the plot\n",
    "plt.show()"
   ]
  },
  {
   "cell_type": "markdown",
   "id": "86cf4338",
   "metadata": {},
   "source": [
    "From the observation of line graph the rates are gradually decreasing with oscillations from 31800 to 29500 from 182 to 225th day and sudden decrease to 26000 rate on 230th day."
   ]
  },
  {
   "cell_type": "code",
   "execution_count": 6,
   "id": "6b7ca5a9",
   "metadata": {},
   "outputs": [
    {
     "name": "stdout",
     "output_type": "stream",
     "text": [
      "Lowest price was on day 253 (25162.6543)\n",
      "Highest price was on day 193 (31476.04883)\n"
     ]
    }
   ],
   "source": [
    "# Calculating the lowest rate and highest rate with their respective day\n",
    "low_rate_day, low_rate = min(enumerate(rates), key=lambda x: x[1])\n",
    "high_rate_day, high_rate = max(enumerate(rates), key=lambda x: x[1])\n",
    "\n",
    "print(f\"Lowest price was on day {days[low_rate_day]} ({low_rate})\")\n",
    "print(f\"Highest price was on day {days[high_rate_day]} ({high_rate})\")"
   ]
  },
  {
   "cell_type": "code",
   "execution_count": 7,
   "id": "8a810d6a",
   "metadata": {},
   "outputs": [
    {
     "name": "stdout",
     "output_type": "stream",
     "text": [
      "Average price changes: -40.58726122222223\n"
     ]
    },
    {
     "data": {
      "image/png": "[encoded data removed]",
      "text/plain": [
       "<Figure size 432x288 with 1 Axes>"
      ]
     },
     "metadata": {
      "needs_background": "light"
     },
     "output_type": "display_data"
    }
   ],
   "source": [
    "#calculating and visualizing using boxplot to analyse the difference of daily price\n",
    "price_changes = np.diff(rates)\n",
    "\n",
    "# Creating a horizontal box-and-whisker plot using matplotlib.pyplot.boxplot\n",
    "plt.boxplot(price_changes, vert=False)\n",
    "\n",
    "# Calculating the arithmetic mean of the daily price increases/decreases\n",
    "mean_price_change = np.mean(price_changes)\n",
    "print(f\"Average price changes:\",mean_price_change)\n",
    "\n",
    "# Mark the arithmetic mean on the box plot using matplotlib.pyplot.plot\n",
    "plt.plot(mean_price_change, 1, 'gx')\n",
    "\n",
    "# Display the plot\n",
    "plt.show()"
   ]
  },
  {
   "cell_type": "markdown",
   "id": "01d55060",
   "metadata": {},
   "source": [
    "Average daily Price changes to -40.58726122222223 is observed from the above boxplot"
   ]
  },
  {
   "cell_type": "code",
   "execution_count": 8,
   "id": "ee24333a",
   "metadata": {},
   "outputs": [
    {
     "name": "stdout",
     "output_type": "stream",
     "text": [
      "Q1: -135.96875249999994\n",
      "Q3: 106.60937499999909\n",
      "Number of outliers: 16\n"
     ]
    }
   ],
   "source": [
    "Q1, Q3 = np.percentile(price_changes, [25, 75])\n",
    "print(f\"Q1:\", Q1) # 1st Quartile from price changes\n",
    "print(f\"Q3:\", Q3) # 3rd Quartile \n",
    "IQR = Q3 - Q1 # InterQuartile Range\n",
    "outliers = np.where((price_changes < Q1 - 1.5 * IQR) | (price_changes > Q3 + 1.5 * IQR))[0]\n",
    "print('Number of outliers:', len(outliers))"
   ]
  },
  {
   "cell_type": "markdown",
   "id": "2c5a8cc9",
   "metadata": {},
   "source": [
    "## Conclusion\n",
    "\n",
    "We conclude by the observation of outliers resembles the daily price of rates increase/decrease more than the average increase/decrease, but the average price changes is decreasing. This affects the market. "
   ]
  },
  {
   "cell_type": "markdown",
   "id": "3f18508e",
   "metadata": {},
   "source": [
    "## REFERNCES\n",
    "\n",
    "1) Gagolewski, M. (2022). Minimalist Data Wrangling with Python.datawranglingpy.gagolewski.com. Marek Gagolewski. Available at: https://datawranglingpy.gagolewski.com/.\n",
    "\n",
    "2) coinmarketcap (2023). Bitcoin.CoinMarketCap. Available at: https://coinmarketcap.com/currencies/bitcoin/.\n",
    "\n",
    "3) finance.yahoo.com. (n.d.). Bitcoin USD (BTC-USD) Price History & Historical Data - Yahoo Finance. Available at: https://finance.yahoo.com/quote/BTC-USD/history?period1=1672531200&period2=1706832000&interval=1d&filter=history&frequency=1d&includeAdjustedClose=true [Accessed 4 Feb. 2024].\n",
    "\n"
   ]
  }
 ],
 "metadata": {
  "kernelspec": {
   "display_name": "Python 3 (ipykernel)",
   "language": "python",
   "name": "python3"
  },
  "language_info": {
   "codemirror_mode": {
    "name": "ipython",
    "version": 3
   },
   "file_extension": ".py",
   "mimetype": "text/x-python",
   "name": "python",
   "nbconvert_exporter": "python",
   "pygments_lexer": "ipython3",
   "version": "3.9.7"
  }
 },
 "nbformat": 4,
 "nbformat_minor": 5
}
