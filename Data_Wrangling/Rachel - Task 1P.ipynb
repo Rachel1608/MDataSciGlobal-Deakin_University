{
 "cells": [
  {
   "cell_type": "markdown",
   "id": "83b42931",
   "metadata": {},
   "source": [
    "# DATA WRANGLING ON BODY MASS INDEX FOR DIFFERENT INDIVIDUALS\n",
    "\n",
    "* **NAME:** M.Rachel\n",
    "* **STUDENT NUMBER:** 224234147\n",
    "* **EMAIL-ID:** rachelriney1608@gmail.com"
   ]
  },
  {
   "cell_type": "markdown",
   "id": "acacb383",
   "metadata": {},
   "source": [
    "## INTRODUCTION\n",
    "\n",
    " **Body Mass Index(BMI)** is used to calculate the body fat. By BMI score, It can be categorized as *under weight, normal weight, over weight or obese*. Here in this task we calculate BMI for 5 persons with their heights(cm) and weights(kg), we'll analyze their BMI's using certain distribution."
   ]
  },
  {
   "cell_type": "code",
   "execution_count": 1,
   "id": "a145389e",
   "metadata": {},
   "outputs": [],
   "source": [
    "# Creating Data for 5 persons respective to their heights and weights\n",
    "names = [\"Sam\", \"Alice\", \"Nathan\", \"Jeremy\", \"Lisa\"]\n",
    "heights = [172, 160, 176, 180, 156] #in centimeters\n",
    "weights = [70,60,80, 82, 42] #in kilograms"
   ]
  },
  {
   "cell_type": "code",
   "execution_count": 2,
   "id": "50a99062",
   "metadata": {},
   "outputs": [
    {
     "data": {
      "text/plain": [
       "['Sam', 'Alice', 'Nathan', 'Jeremy', 'Lisa']"
      ]
     },
     "execution_count": 2,
     "metadata": {},
     "output_type": "execute_result"
    }
   ],
   "source": [
    "#Load the data \n",
    "names"
   ]
  },
  {
   "cell_type": "markdown",
   "id": "98eb8e84",
   "metadata": {},
   "source": [
    "## BMI Score\n",
    "![alt](https://wikimedia.org/api/rest_v1/media/math/render/svg/ce191830a28c6f957ca8b1644bc2ac6b34b8545b)\n",
    "\n",
    "## New BMI Score ( exponent of 2.5)\n",
    "![alt](https://wikimedia.org/api/rest_v1/media/math/render/svg/51bdf71262dab4fb102a4365ae1becc0811caf38)"
   ]
  },
  {
   "cell_type": "code",
   "execution_count": 3,
   "id": "fb1566af",
   "metadata": {},
   "outputs": [
    {
     "name": "stdout",
     "output_type": "stream",
     "text": [
      "Sam: BMI = 23.66, New BMI = 23.45\n",
      "Alice: BMI = 23.44, New BMI = 24.09\n",
      "Nathan: BMI = 25.83, New BMI = 25.31\n",
      "Jeremy: BMI = 25.31, New BMI = 24.52\n",
      "Lisa: BMI = 17.26, New BMI = 17.96\n"
     ]
    }
   ],
   "source": [
    "# Calculating BMI and New BMI (exponent of 2.5) using for loop\n",
    "bmis = []\n",
    "new_bmis = []\n",
    "for i in range(len(names)):\n",
    "    height = heights[i]/100 # convert height from centimeters to meters\n",
    "    weight = weights[i] # weight in kilograms\n",
    "    BMI = weight / (height**2)\n",
    "    bmis.append(BMI) # after BMI calculation the values stored in bmis list\n",
    "    new_BMI = 1.3*(weight/(height**2.5))\n",
    "    new_bmis.append(new_BMI) #after New BMI calculation the values stored in new_bmis\n",
    "\n",
    "# Printing the BMIs and New BMIs for each person from the bmis and new_bmis list\n",
    "for i in range(len(names)):\n",
    "    print(f\"{names[i]}: BMI = {bmis[i]:.2f}, New BMI = {new_bmis[i]:.2f}\")\n"
   ]
  },
  {
   "cell_type": "code",
   "execution_count": 4,
   "id": "902b160b",
   "metadata": {},
   "outputs": [],
   "source": [
    "#  using for loop categorizing the calculated bmi\n",
    "bmi_cat=[]\n",
    "for BMI in bmis:\n",
    "    if BMI<18.5: # below 18.5 as Under Weight\n",
    "        BMI = \"Under Weight\"\n",
    "    elif BMI<25: # below 25 as Normal Weight \n",
    "        BMI = \"Normal Weight\"\n",
    "    elif BMI<30: # below 30 as Over weight\n",
    "        BMI = \"Over Weight\"\n",
    "    else: # above 30 is considered as obese\n",
    "        bmi = \"Obese\"\n",
    "    bmi_cat.append(BMI) # "
   ]
  },
  {
   "cell_type": "code",
   "execution_count": 5,
   "id": "c46b5580",
   "metadata": {},
   "outputs": [
    {
     "data": {
      "text/plain": [
       "['Normal Weight',\n",
       " 'Normal Weight',\n",
       " 'Over Weight',\n",
       " 'Over Weight',\n",
       " 'Under Weight']"
      ]
     },
     "execution_count": 5,
     "metadata": {},
     "output_type": "execute_result"
    }
   ],
   "source": [
    "# The calculated BMI categories for the Data\n",
    "bmi_cat"
   ]
  },
  {
   "cell_type": "code",
   "execution_count": 6,
   "id": "7956aa90",
   "metadata": {},
   "outputs": [
    {
     "name": "stdout",
     "output_type": "stream",
     "text": [
      "Sam has BMI of 23.66 which is Normal Weight. The new BMI index is 23.45.\n",
      "Alice has BMI of 23.44 which is Normal Weight. The new BMI index is 24.09.\n",
      "Nathan has BMI of 25.83 which is Over Weight. The new BMI index is 25.31.\n",
      "Jeremy has BMI of 25.31 which is Over Weight. The new BMI index is 24.52.\n",
      "Lisa has BMI of 17.26 which is Under Weight. The new BMI index is 17.96.\n"
     ]
    }
   ],
   "source": [
    "# Using for loop to print series of strings for 5 persons with their BMI categories, with respect to new_bmi index for better understanding.\n",
    "for i in range(len(names)):\n",
    "    print(f\"{names[i]} has BMI of {bmis[i]:.2f} which is {bmi_cat[i]}. The new BMI index is {new_bmis[i]:.2f}.\")"
   ]
  },
  {
   "cell_type": "code",
   "execution_count": 7,
   "id": "795a2b80",
   "metadata": {},
   "outputs": [
    {
     "data": {
      "text/plain": [
       "<function matplotlib.pyplot.show(close=None, block=None)>"
      ]
     },
     "execution_count": 7,
     "metadata": {},
     "output_type": "execute_result"
    },
    {
     "data": {
      "image/png": "[encoded data removed]",
      "text/plain": [
       "<Figure size 432x288 with 1 Axes>"
      ]
     },
     "metadata": {
      "needs_background": "light"
     },
     "output_type": "display_data"
    }
   ],
   "source": [
    "# Visualizing the BMI categories with Bar plot for better understanding\n",
    "import matplotlib.pyplot as plt\n",
    "\n",
    "colors = [\"blue\" if BMI<18.5 else \"green\" if BMI<25 else \"red\" if BMI<30 else \"orange\" for BMI in bmis]\n",
    "plt.bar(names,bmis, color = colors)\n",
    "plt.xlabel(\"Names\")\n",
    "plt.ylabel(\"BMI CATEGORIES\")\n",
    "plt.title(\"MY FRIENDS' BMIs\")\n",
    "plt.show"
   ]
  },
  {
   "cell_type": "markdown",
   "id": "5ad5a91d",
   "metadata": {},
   "source": [
    "* Blue represents person with under weight(BMI<18.5)\n",
    "* Green represents person with Normal Weight (BMI<20)\n",
    "* Orange represents person with Over Weight (BMI<30)\n",
    "\n",
    "Through this bar plot we identify among 5 members \"**Sam and Alice have *Normal weight*\", \"Nathan and Jeremy have *Over weight*\" and \"Lisa has *Under Weight***\" by BMI score."
   ]
  },
  {
   "cell_type": "markdown",
   "id": "5ce7261b",
   "metadata": {},
   "source": [
    "## Benefits\n",
    "\n",
    "* Through *BMI* we can able to identify *how healthy our body is, which helps to avoid risk factors and act as precautionary tool*.\n",
    "\n",
    "## Limitations\n",
    "**MEDICAL PRESPECTIVE:** [Medical](https://www.nhlbi.nih.gov/health/educational/lose_wt/risk.htm#limitations)\n",
    "* It may *overestimate body fat in athletes* and others who have a muscular build.\n",
    "* It may *underestimate body fat in older* persons and others who have lost muscle.\n",
    "\n",
    "**SOCIETAL PRESPECTIVE:**[By Sociologist Sabrina Strings](http://worldcat.org/oclc/1256003500)\n",
    "* BMI is designed as a metric for *European Men, for women and the people of non-European origin*, the scale is often biased.\n",
    "* The BMI is largely inaccurate for *black people*, labelling them as a overweight even for a healthy individual.\n",
    "\n",
    "**NEW BMI:**\n",
    "* By *Trefethen's analysis*, an exponent of 2.5 was found to fit data more closely with less distortion than either an exponent of 2 or 3, it minimizes the distortion for *taller and smaller* Individuals.\n",
    "\n",
    "## Misuses \n",
    "(<https://www.ncbi.nlm.nih.gov/books/NBK594362/>)\n",
    "* BMI is associated but not direct measure of body fat.\n",
    "* It is useful in screening obesity but not for diagnotic measure for obesity.\n"
   ]
  },
  {
   "cell_type": "markdown",
   "id": "47549eb9",
   "metadata": {},
   "source": [
    "# CONCLUSION\n",
    "\n",
    "* Through **BMI** we come to conclusion it is used for *measuring obesity* but not for *displacing clinical judgement*. BMI can't be trusted with *other Nationals*, because the score varies even for a *healthy individual*. \n",
    " \n",
    "* Through barplot results, we conclude that *Nathan and Jeremy* has over weight, which shows they are unhealthy condition leads to increase the risk of disease such heart disease, type 2 diabetes, etc.  "
   ]
  },
  {
   "cell_type": "markdown",
   "id": "b8156c12",
   "metadata": {},
   "source": [
    "# REFERENCES\n",
    "\n",
    "1) Gagolewski, M. (2022). Minimalist Data Wrangling with Python.datawranglingpy.gagolewski.com. Marek Gagolewski. Available at: https://datawranglingpy.gagolewski.com/.\n",
    "\n",
    "2) Wikipedia. (2024). Body mass index. Available at: https://en.wikipedia.org/wiki/Body_mass_index#cite_note-53.\n",
    "\n",
    "3) www.nhlbi.nih.gov. (n.d.). Assessing Your Weight and Health Risk. Available at: https://www.nhlbi.nih.gov/health/educational/lose_wt/risk.htm#limitations.\n",
    "\n",
    "4) search.worldcat.org. (n.d.). Fearing the black body : the racial origins of fat phobia | WorldCat.org. Available at: http://worldcat.org/oclc/1256003500.\n",
    "\n",
    "5) National Academies of Sciences, E., Division, H. and M., Board, F. and N., Solutions, R. on O. and Callahan, E.A. (2023). The Science, Strengths, and Limitations of Body Mass Index. www.ncbi.nlm.nih.gov. Available at: https://www.ncbi.nlm.nih.gov/books/NBK594362/.\n",
    "\n"
   ]
  }
 ],
 "metadata": {
  "kernelspec": {
   "display_name": "Python 3 (ipykernel)",
   "language": "python",
   "name": "python3"
  },
  "language_info": {
   "codemirror_mode": {
    "name": "ipython",
    "version": 3
   },
   "file_extension": ".py",
   "mimetype": "text/x-python",
   "name": "python",
   "nbconvert_exporter": "python",
   "pygments_lexer": "ipython3",
   "version": "3.9.7"
  }
 },
 "nbformat": 4,
 "nbformat_minor": 5
}
