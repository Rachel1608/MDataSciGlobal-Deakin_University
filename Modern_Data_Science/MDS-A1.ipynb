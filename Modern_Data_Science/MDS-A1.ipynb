{
 "cells": [
  {
   "cell_type": "markdown",
   "id": "08270864",
   "metadata": {},
   "source": [
    "## MID TERM ASSESSMENT\n",
    "* **Name :** M.Rachel\n",
    "* **Student No. :** 224234147\n",
    "* **Deakin Mail :** s224234147@deakin.edu.au\n",
    "* **Email Address:** rachelriney1608@gmail.com"
   ]
  },
  {
   "cell_type": "markdown",
   "id": "28fce1ff",
   "metadata": {},
   "source": [
    "### PART-1"
   ]
  },
  {
   "cell_type": "markdown",
   "id": "c8d83166",
   "metadata": {},
   "source": [
    "#### Answer 1.1\n"
   ]
  },
  {
   "cell_type": "code",
   "execution_count": 1,
   "id": "13bd0194",
   "metadata": {},
   "outputs": [
    {
     "name": "stdout",
     "output_type": "stream",
     "text": [
      "True\n",
      "True\n",
      "False\n",
      "False\n",
      "True\n"
     ]
    }
   ],
   "source": [
    "# Two Integers is divisible by each other\n",
    "def is_divisible(m,n): # define the function is_divisible\n",
    "    if m%n==0:\n",
    "        return True\n",
    "    else:\n",
    "        return False\n",
    "\n",
    "# Test Cases\n",
    "print(is_divisible(10,2)) # 10 is divisible by 2\n",
    "print(is_divisible(15,3)) # 15 is divisible by 3\n",
    "print(is_divisible(7,2)) # 7 is not divisible by 2\n",
    "print(is_divisible(8,5)) # 8 is not divisible by 5\n",
    "print(is_divisible(0,2)) # 0 is divisible by 2"
   ]
  },
  {
   "cell_type": "markdown",
   "id": "17ac088d",
   "metadata": {},
   "source": [
    "* From the above code we got output for m which is divisible with n. We have shown test cases for this problem."
   ]
  },
  {
   "cell_type": "markdown",
   "id": "94e58c22",
   "metadata": {},
   "source": [
    "#### Answer 1.2"
   ]
  },
  {
   "cell_type": "code",
   "execution_count": 2,
   "id": "ceafa42b",
   "metadata": {},
   "outputs": [
    {
     "name": "stdout",
     "output_type": "stream",
     "text": [
      "False\n",
      "True\n",
      "False\n",
      "True\n",
      "True\n",
      "False\n"
     ]
    }
   ],
   "source": [
    "# Two variable is Not Equal(!=) Problem\n",
    "def not_equal(a,b):\n",
    "    if a==b:\n",
    "        return False\n",
    "    else:\n",
    "        return True\n",
    "\n",
    "# Test Cases\n",
    "print(not_equal(1,1)) # 1 is equal to 1\n",
    "print(not_equal(8,9)) # 8 is not equal to 9\n",
    "print(not_equal(3,3)) # 3 is equal to 3\n",
    "print(not_equal(6,2)) # 6 is not equal to 2\n",
    "print(not_equal(True, False)) # True is not equal to False\n",
    "print(not_equal(None,None))# None is equal to None"
   ]
  },
  {
   "cell_type": "markdown",
   "id": "8a5ebff3",
   "metadata": {},
   "source": [
    "* From the above code we got output for 2 variables which is not equal to each other. We have shown test cases for this problem."
   ]
  },
  {
   "cell_type": "markdown",
   "id": "954895be",
   "metadata": {},
   "source": [
    "#### Answer 1.3"
   ]
  },
  {
   "cell_type": "code",
   "execution_count": 3,
   "id": "66b7d22c",
   "metadata": {},
   "outputs": [
    {
     "name": "stdout",
     "output_type": "stream",
     "text": [
      "['HHH', 'HHT', 'HTH', 'HTT', 'THH', 'THT', 'TTH', 'TTT']\n"
     ]
    }
   ],
   "source": [
    "# Write a list comprehension that prints out the possible results of three coin flips (how many results should be there?)\n",
    "coins = [f\"{a}{b}{c}\" for a in \"HT\" for b in \"HT\" for c in \"HT\"]\n",
    "print(coins)"
   ]
  },
  {
   "cell_type": "code",
   "execution_count": 4,
   "id": "3fd64d48",
   "metadata": {},
   "outputs": [
    {
     "name": "stdout",
     "output_type": "stream",
     "text": [
      "[11, 12, 13, 21, 22, 23, 31, 32, 33]\n",
      "[11, 12, 13, 21, 22, 23, 31, 32, 33]\n"
     ]
    }
   ],
   "source": [
    "# Run this list comprehension in your notebook: [x+y for x in [10,20,30] for y in [1,2,3]]. Figure out what is going on here, and write a nested for loop that gives you the same result.\n",
    "a = [x+y for x in [10,20,30] for y in [1,2,3]]\n",
    "print(a)\n",
    "\n",
    "list=[]\n",
    "for i in range(10,31,10):\n",
    "    for j in range(1,4):\n",
    "        list.append(i+j)\n",
    "print(list)"
   ]
  },
  {
   "cell_type": "markdown",
   "id": "9439653c",
   "metadata": {},
   "source": [
    "* For 1.3 question we got output 3 coins flip possibilities \n",
    "* Reproducing the same result as list comprehension by nested for loop.\n",
    " "
   ]
  },
  {
   "cell_type": "markdown",
   "id": "2981dc7a",
   "metadata": {},
   "source": [
    "#### Answer 1.4\n",
    "Write a function ”find_digits” that takes in a string and uses a list comprehension to return all\n",
    "the int digits in the string if any (assuming string only contain digits from 0 to 9). Be sure to test your function well, including at least 3 test cases."
   ]
  },
  {
   "cell_type": "code",
   "execution_count": 5,
   "id": "d128bbbb",
   "metadata": {},
   "outputs": [
    {
     "name": "stdout",
     "output_type": "stream",
     "text": [
      "[1, 2, 3, 7, 8, 9]\n",
      "[3, 5, 8, 9, 2, 6, 1]\n",
      "[2, 2, 6, 6, 0, 0]\n",
      "[2, 6, 8, 8]\n"
     ]
    }
   ],
   "source": [
    "def find_digits(a):\n",
    "    return[int(i) for i in a if i.isdigit()]\n",
    "\n",
    "# Test Cases\n",
    "print(find_digits(\"123isgood789\"))\n",
    "print(find_digits(\"3i5n8t9e2g6e1r\"))\n",
    "print(find_digits(\"p22dd66ee00\"))\n",
    "print(find_digits(\"t2688ijk\"))"
   ]
  },
  {
   "cell_type": "markdown",
   "id": "cf7b5394",
   "metadata": {},
   "source": [
    "* We have output for the digits from the mixture of integer and string input."
   ]
  },
  {
   "cell_type": "markdown",
   "id": "15e289df",
   "metadata": {},
   "source": [
    "#### Answer 1.5\n",
    "Write a list comprehension which solves the equation y = 2x\n",
    "2 − 1 like Figure 2. Your solution should\n",
    "print out a list of [x, y] pairs; use the domain x ∈ [−3, 3] and the range y ∈ [0, 30]. x and y are all integers and you could use range for simulation on the x and y"
   ]
  },
  {
   "cell_type": "code",
   "execution_count": 6,
   "id": "09a4a5c4",
   "metadata": {},
   "outputs": [
    {
     "name": "stdout",
     "output_type": "stream",
     "text": [
      "[[-3, 17], [-2, 7], [-1, 1], [1, 1], [2, 7], [3, 17]]\n"
     ]
    }
   ],
   "source": [
    "pairs = [[x, 2*x**2 -1] for x in range(-3, 4) if 0 <= 2*x**2-1 <= 30]\n",
    "print(pairs)"
   ]
  },
  {
   "cell_type": "markdown",
   "id": "757d4336",
   "metadata": {},
   "source": [
    "* For the following equation we got the pair points which is same as the figure given in the question using list comprehension."
   ]
  },
  {
   "cell_type": "markdown",
   "id": "85cbc7a8",
   "metadata": {},
   "source": [
    "#### Answer 1.6\n",
    "**Collision Detection of Balls:**\n",
    "\n",
    "For calculating collision, we only care about a ball’s position in space, as well as its size. We can store a ball’s position with the (x, y) coordinates of its center point, and we can calculate its size if we know its radius r. Thus, we represent a ball in 2D space as a tuple of (x, y, r). To figure out if two balls are colliding, we need to compute the distance between their centers, then see if this distance is less than or equal to the sum of their radius. If so, they are colliding. Please define a function with two list as inputs (two balls’ position and radius [x,y,r]), test your function with three different cases.\n"
   ]
  },
  {
   "cell_type": "code",
   "execution_count": 7,
   "id": "2f30e661",
   "metadata": {},
   "outputs": [
    {
     "name": "stdout",
     "output_type": "stream",
     "text": [
      "True\n",
      "True\n",
      "True\n",
      "True\n",
      "False\n",
      "False\n"
     ]
    }
   ],
   "source": [
    "import math\n",
    "def is_colliding(b1, b2): # b1 and b2 is considered as balls\n",
    "    x1, y1, r1 = b1\n",
    "    x2, y2, r2 = b2\n",
    "    distance = math.sqrt((x2 - x1)**2 + (y2 - y1)**2)\n",
    "    return distance <= r1 + r2\n",
    "\n",
    "# Test cases\n",
    "# Colliding balls\n",
    "print(is_colliding([0, 0, 2], [0, 0, 2]))  # True\n",
    "print(is_colliding([0, 0, 2], [2, 0, 2]))  # True\n",
    "print(is_colliding([0, 0, 3], [1, 1, 2]))  # True\n",
    "print(is_colliding([0, 0, 4], [0, 0, 2]))  # True\n",
    "\n",
    "# Non-colliding balls\n",
    "print(is_colliding([0, 0, 2], [10, 10, 2]))  # False\n",
    "print(is_colliding([0, 0, 2], [5, 5, 1]))  # False"
   ]
  },
  {
   "cell_type": "markdown",
   "id": "ad7fed35",
   "metadata": {},
   "source": [
    "- From the results we got True the balls are collided.\n",
    "- From the results we got False the balls are not collided."
   ]
  },
  {
   "cell_type": "markdown",
   "id": "93e08a0d",
   "metadata": {},
   "source": [
    "#### Answer 1.7\n"
   ]
  },
  {
   "cell_type": "code",
   "execution_count": 8,
   "id": "cc4d6de2",
   "metadata": {},
   "outputs": [
    {
     "name": "stdout",
     "output_type": "stream",
     "text": [
      "16\n",
      "270\n",
      "13\n"
     ]
    }
   ],
   "source": [
    "LETTER_VALUES = {\n",
    "    'a': 1, 'b': 1, 'c': 5, 'd': 6, 'e': 1, 'f': 4, 'g': 2, 'h': 4,\n",
    "    'i': 1, 'j': 8, 'k': 6, 'l': 1, 'm': 4, 'n': 1, 'o': 1, 'p': 3,\n",
    "    'q': 11, 'r': 1, 's': 1, 't': 1, 'u': 1, 'v': 5, 'w': 4, 'x': 8,\n",
    "    'y': 6, 'z': 10, ' ': 100\n",
    "}\n",
    "\n",
    "def get_word_score(word):\n",
    "    \"\"\"\n",
    "    Returns the score for a word. Assumes the word is a valid word.\n",
    "    \"\"\"\n",
    "    word = word.lower()  # Converting to lowercase to handle mixed case strings\n",
    "    letter_scores = [LETTER_VALUES[c] for c in word]  # Get scores for each letter\n",
    "    word_score = sum(letter_scores)  # sum of letter scores\n",
    "    word_len = len(word)\n",
    "    second_component = max(1, 7 * word_len - 3 * (20 - word_len)) \n",
    "\n",
    "    return word_score * second_component \n",
    "\n",
    "# Test Cases\n",
    "print(get_word_score(\"Deakin\"))\n",
    "print(get_word_score(\"Australia\"))\n",
    "print(get_word_score(\"Rachel\"))"
   ]
  },
  {
   "cell_type": "markdown",
   "id": "17e93d96",
   "metadata": {},
   "source": [
    "* From the letter values we converted the user input to lower.case incase of mixed case.\n",
    "* By using list comprehension we get score for each letter and summing all the scores we got word score.\n",
    "* Using length of words we calculate second component score.\n",
    "* we get the word score multiplying with second component score."
   ]
  },
  {
   "cell_type": "markdown",
   "id": "ee04e25f",
   "metadata": {},
   "source": [
    "#### Answer 1.8"
   ]
  },
  {
   "cell_type": "code",
   "execution_count": 9,
   "id": "c5d50dd7",
   "metadata": {},
   "outputs": [
    {
     "name": "stdout",
     "output_type": "stream",
     "text": [
      "    *\n",
      "   **\n",
      "  ***\n",
      " ****\n",
      "*****\n",
      " ****\n",
      "  ***\n",
      "   **\n",
      "    *\n"
     ]
    }
   ],
   "source": [
    "n = 5\n",
    "for i in range(1, n + 1):\n",
    "    print(' ' * (n - i) + '*' * i)\n",
    "\n",
    "for i in range(n - 1, 0, -1):\n",
    "    print(' ' * (n - i) + '*' * i)"
   ]
  }
 ],
 "metadata": {
  "kernelspec": {
   "display_name": "Python 3 (ipykernel)",
   "language": "python",
   "name": "python3"
  },
  "language_info": {
   "codemirror_mode": {
    "name": "ipython",
    "version": 3
   },
   "file_extension": ".py",
   "mimetype": "text/x-python",
   "name": "python",
   "nbconvert_exporter": "python",
   "pygments_lexer": "ipython3",
   "version": "3.11.7"
  }
 },
 "nbformat": 4,
 "nbformat_minor": 5
}
