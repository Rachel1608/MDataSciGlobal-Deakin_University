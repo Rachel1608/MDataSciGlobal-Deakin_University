{
 "cells": [
  {
   "cell_type": "markdown",
   "id": "3b8c8ff7",
   "metadata": {},
   "source": [
    "## TASK 1P\n",
    "* **Name :** M.Rachel\n",
    "* **Student No. :** 224234147\n",
    "* **Deakin Mail :** s224234147@deakin.edu.au\n",
    "* **Email Address:** rachelriney1608@gmail.com"
   ]
  },
  {
   "cell_type": "markdown",
   "id": "e2e9732d",
   "metadata": {},
   "source": [
    "## PROBLEM STATEMENT\n",
    "\n",
    "#### 1) Read “Sensor readings, with temperature, light, humidity every 5 minutes at 8locations (trial, 2014 to 2015)” and print the feature name with numbers of missing entries.\n",
    "\n",
    "The dataset describes Sensor readings that contains temperature, light, humidity of every 5 minutes collected at 8 locations (trial, 2014 to 2015). In 2012, Council and ARUP partnered with the University of Melbourne on a three year Australian Research Council Linkage Grant for creating a Smart City through IOT. The aim of the research was to develop new systems and algorithms that can help city administrators remotely monitor, understand and interpret real time information on urban environments. \n",
    "\n",
    "### Features:\n",
    "* 'timestamp'\n",
    "* 'mac'\n",
    "* 'boardtype'\n",
    "* 'boardid'\n",
    "* 'temp_max'\n",
    "* 'temp_min',\n",
    "* 'temp_avg'\n",
    "* 'light_max'\n",
    "* 'light_min'\n",
    "* 'light_avg'\n",
    "* 'humidity_min'\n",
    "* 'humidity_max'\n",
    "* 'humidity_avg'\n",
    "* 'model'\n",
    "* 'latitude'\n",
    "* 'longitude',\n",
    "* 'elevation'\n",
    "* 'rowid'\n",
    "* 'Position'\n",
    "* 'geolocation'\n",
    "\n",
    "### TARGET Variable\n",
    "\n",
    "* 'location'\n"
   ]
  },
  {
   "cell_type": "code",
   "execution_count": 1,
   "id": "4ddff1db",
   "metadata": {},
   "outputs": [],
   "source": [
    "# Import Necessary Libraries\n",
    "import numpy as np\n",
    "import pandas as pd\n",
    "import matplotlib.pyplot as plt\n",
    "import seaborn as sns\n",
    "\n",
    "import warnings\n",
    "warnings.filterwarnings('ignore')"
   ]
  },
  {
   "cell_type": "code",
   "execution_count": 2,
   "id": "0e8ef0e6",
   "metadata": {},
   "outputs": [
    {
     "data": {
      "text/html": [
       "<div>\n",
       "<style scoped>\n",
       "    .dataframe tbody tr th:only-of-type {\n",
       "        vertical-align: middle;\n",
       "    }\n",
       "\n",
       "    .dataframe tbody tr th {\n",
       "        vertical-align: top;\n",
       "    }\n",
       "\n",
       "    .dataframe thead th {\n",
       "        text-align: right;\n",
       "    }\n",
       "</style>\n",
       "<table border=\"1\" class=\"dataframe\">\n",
       "  <thead>\n",
       "    <tr style=\"text-align: right;\">\n",
       "      <th></th>\n",
       "      <th>timestamp</th>\n",
       "      <th>mac</th>\n",
       "      <th>boardtype</th>\n",
       "      <th>boardid</th>\n",
       "      <th>temp_max</th>\n",
       "      <th>temp_min</th>\n",
       "      <th>temp_avg</th>\n",
       "      <th>light_max</th>\n",
       "      <th>light_min</th>\n",
       "      <th>light_avg</th>\n",
       "      <th>...</th>\n",
       "      <th>humidity_max</th>\n",
       "      <th>humidity_avg</th>\n",
       "      <th>model</th>\n",
       "      <th>latitude</th>\n",
       "      <th>longitude</th>\n",
       "      <th>elevation</th>\n",
       "      <th>location</th>\n",
       "      <th>rowid</th>\n",
       "      <th>Position</th>\n",
       "      <th>geolocation</th>\n",
       "    </tr>\n",
       "  </thead>\n",
       "  <tbody>\n",
       "    <tr>\n",
       "      <th>0</th>\n",
       "      <td>2015-01-24T16:15:00+05:30</td>\n",
       "      <td>0013a20040b31571</td>\n",
       "      <td>1</td>\n",
       "      <td>510</td>\n",
       "      <td>19.4</td>\n",
       "      <td>19.4</td>\n",
       "      <td>19.4</td>\n",
       "      <td>0.9</td>\n",
       "      <td>0.9</td>\n",
       "      <td>0.9</td>\n",
       "      <td>...</td>\n",
       "      <td>52.7</td>\n",
       "      <td>52.7</td>\n",
       "      <td>ENV</td>\n",
       "      <td>-37.819712</td>\n",
       "      <td>144.941325</td>\n",
       "      <td>NaN</td>\n",
       "      <td>Docklands Library</td>\n",
       "      <td>510-20150124104500</td>\n",
       "      <td>NaN</td>\n",
       "      <td>-37.8197121, 144.9413253</td>\n",
       "    </tr>\n",
       "    <tr>\n",
       "      <th>1</th>\n",
       "      <td>2015-01-24T16:45:00+05:30</td>\n",
       "      <td>0013a20040b5b337</td>\n",
       "      <td>1</td>\n",
       "      <td>511</td>\n",
       "      <td>19.7</td>\n",
       "      <td>19.7</td>\n",
       "      <td>19.7</td>\n",
       "      <td>10.6</td>\n",
       "      <td>10.6</td>\n",
       "      <td>10.6</td>\n",
       "      <td>...</td>\n",
       "      <td>50.2</td>\n",
       "      <td>50.2</td>\n",
       "      <td>ENV</td>\n",
       "      <td>-37.819500</td>\n",
       "      <td>144.941889</td>\n",
       "      <td>NaN</td>\n",
       "      <td>Docklands Library</td>\n",
       "      <td>511-20150124111500</td>\n",
       "      <td>NaN</td>\n",
       "      <td>-37.8195002, 144.9418888</td>\n",
       "    </tr>\n",
       "    <tr>\n",
       "      <th>2</th>\n",
       "      <td>2015-01-24T16:45:00+05:30</td>\n",
       "      <td>0013a20040b31583</td>\n",
       "      <td>1</td>\n",
       "      <td>509</td>\n",
       "      <td>19.7</td>\n",
       "      <td>19.7</td>\n",
       "      <td>19.7</td>\n",
       "      <td>3.1</td>\n",
       "      <td>3.1</td>\n",
       "      <td>3.1</td>\n",
       "      <td>...</td>\n",
       "      <td>57.9</td>\n",
       "      <td>57.9</td>\n",
       "      <td>ENV</td>\n",
       "      <td>-37.819904</td>\n",
       "      <td>144.940485</td>\n",
       "      <td>NaN</td>\n",
       "      <td>Docklands Library</td>\n",
       "      <td>509-20150124111500</td>\n",
       "      <td>NaN</td>\n",
       "      <td>-37.8199043, 144.9404851</td>\n",
       "    </tr>\n",
       "    <tr>\n",
       "      <th>3</th>\n",
       "      <td>2015-01-24T17:25:00+05:30</td>\n",
       "      <td>0013a20040b31583</td>\n",
       "      <td>1</td>\n",
       "      <td>509</td>\n",
       "      <td>19.7</td>\n",
       "      <td>19.7</td>\n",
       "      <td>19.7</td>\n",
       "      <td>3.1</td>\n",
       "      <td>3.1</td>\n",
       "      <td>3.1</td>\n",
       "      <td>...</td>\n",
       "      <td>53.7</td>\n",
       "      <td>53.7</td>\n",
       "      <td>ENV</td>\n",
       "      <td>-37.819904</td>\n",
       "      <td>144.940485</td>\n",
       "      <td>NaN</td>\n",
       "      <td>Docklands Library</td>\n",
       "      <td>509-20150124115500</td>\n",
       "      <td>NaN</td>\n",
       "      <td>-37.8199043, 144.9404851</td>\n",
       "    </tr>\n",
       "    <tr>\n",
       "      <th>4</th>\n",
       "      <td>2015-01-24T17:25:00+05:30</td>\n",
       "      <td>0013a20040b31571</td>\n",
       "      <td>1</td>\n",
       "      <td>510</td>\n",
       "      <td>18.7</td>\n",
       "      <td>18.7</td>\n",
       "      <td>18.7</td>\n",
       "      <td>1.0</td>\n",
       "      <td>1.0</td>\n",
       "      <td>1.0</td>\n",
       "      <td>...</td>\n",
       "      <td>48.6</td>\n",
       "      <td>48.6</td>\n",
       "      <td>ENV</td>\n",
       "      <td>-37.819712</td>\n",
       "      <td>144.941325</td>\n",
       "      <td>NaN</td>\n",
       "      <td>Docklands Library</td>\n",
       "      <td>510-20150124115500</td>\n",
       "      <td>NaN</td>\n",
       "      <td>-37.8197121, 144.9413253</td>\n",
       "    </tr>\n",
       "  </tbody>\n",
       "</table>\n",
       "<p>5 rows × 21 columns</p>\n",
       "</div>"
      ],
      "text/plain": [
       "                   timestamp               mac  boardtype  boardid  temp_max  \\\n",
       "0  2015-01-24T16:15:00+05:30  0013a20040b31571          1      510      19.4   \n",
       "1  2015-01-24T16:45:00+05:30  0013a20040b5b337          1      511      19.7   \n",
       "2  2015-01-24T16:45:00+05:30  0013a20040b31583          1      509      19.7   \n",
       "3  2015-01-24T17:25:00+05:30  0013a20040b31583          1      509      19.7   \n",
       "4  2015-01-24T17:25:00+05:30  0013a20040b31571          1      510      18.7   \n",
       "\n",
       "   temp_min  temp_avg  light_max  light_min  light_avg  ...  humidity_max  \\\n",
       "0      19.4      19.4        0.9        0.9        0.9  ...          52.7   \n",
       "1      19.7      19.7       10.6       10.6       10.6  ...          50.2   \n",
       "2      19.7      19.7        3.1        3.1        3.1  ...          57.9   \n",
       "3      19.7      19.7        3.1        3.1        3.1  ...          53.7   \n",
       "4      18.7      18.7        1.0        1.0        1.0  ...          48.6   \n",
       "\n",
       "   humidity_avg  model   latitude   longitude  elevation           location  \\\n",
       "0          52.7    ENV -37.819712  144.941325        NaN  Docklands Library   \n",
       "1          50.2    ENV -37.819500  144.941889        NaN  Docklands Library   \n",
       "2          57.9    ENV -37.819904  144.940485        NaN  Docklands Library   \n",
       "3          53.7    ENV -37.819904  144.940485        NaN  Docklands Library   \n",
       "4          48.6    ENV -37.819712  144.941325        NaN  Docklands Library   \n",
       "\n",
       "                rowid Position               geolocation  \n",
       "0  510-20150124104500      NaN  -37.8197121, 144.9413253  \n",
       "1  511-20150124111500      NaN  -37.8195002, 144.9418888  \n",
       "2  509-20150124111500      NaN  -37.8199043, 144.9404851  \n",
       "3  509-20150124115500      NaN  -37.8199043, 144.9404851  \n",
       "4  510-20150124115500      NaN  -37.8197121, 144.9413253  \n",
       "\n",
       "[5 rows x 21 columns]"
      ]
     },
     "execution_count": 2,
     "metadata": {},
     "output_type": "execute_result"
    }
   ],
   "source": [
    "# Load CSV file\n",
    "df = pd.read_csv('F:/Data Science/Datasets/sensor-readings-with-temperature-light-humidity-every-5-minutes-at-8-locations-t.csv')\n",
    "df.head()"
   ]
  },
  {
   "cell_type": "code",
   "execution_count": 3,
   "id": "86c6aa5b",
   "metadata": {},
   "outputs": [
    {
     "data": {
      "text/plain": [
       "(56570, 21)"
      ]
     },
     "execution_count": 3,
     "metadata": {},
     "output_type": "execute_result"
    }
   ],
   "source": [
    "#Printing the shape of the data\n",
    "df.shape"
   ]
  },
  {
   "cell_type": "markdown",
   "id": "549a9ab3",
   "metadata": {},
   "source": [
    "* The shape of the data has 56570 rows and 21 features"
   ]
  },
  {
   "cell_type": "code",
   "execution_count": 4,
   "id": "c32750a8",
   "metadata": {},
   "outputs": [
    {
     "data": {
      "text/plain": [
       "Index(['timestamp', 'mac', 'boardtype', 'boardid', 'temp_max', 'temp_min',\n",
       "       'temp_avg', 'light_max', 'light_min', 'light_avg', 'humidity_min',\n",
       "       'humidity_max', 'humidity_avg', 'model', 'latitude', 'longitude',\n",
       "       'elevation', 'location', 'rowid', 'Position', 'geolocation'],\n",
       "      dtype='object')"
      ]
     },
     "execution_count": 4,
     "metadata": {},
     "output_type": "execute_result"
    }
   ],
   "source": [
    "#print feature names\n",
    "df.columns"
   ]
  },
  {
   "cell_type": "code",
   "execution_count": 5,
   "id": "b6600ae7",
   "metadata": {},
   "outputs": [
    {
     "name": "stdout",
     "output_type": "stream",
     "text": [
      "<class 'pandas.core.frame.DataFrame'>\n",
      "RangeIndex: 56570 entries, 0 to 56569\n",
      "Data columns (total 21 columns):\n",
      " #   Column        Non-Null Count  Dtype  \n",
      "---  ------        --------------  -----  \n",
      " 0   timestamp     56570 non-null  object \n",
      " 1   mac           56570 non-null  object \n",
      " 2   boardtype     56570 non-null  int64  \n",
      " 3   boardid       56570 non-null  int64  \n",
      " 4   temp_max      56570 non-null  float64\n",
      " 5   temp_min      56570 non-null  float64\n",
      " 6   temp_avg      56570 non-null  float64\n",
      " 7   light_max     56570 non-null  float64\n",
      " 8   light_min     56570 non-null  float64\n",
      " 9   light_avg     56570 non-null  float64\n",
      " 10  humidity_min  56570 non-null  float64\n",
      " 11  humidity_max  56570 non-null  float64\n",
      " 12  humidity_avg  56570 non-null  float64\n",
      " 13  model         56570 non-null  object \n",
      " 14  latitude      56570 non-null  float64\n",
      " 15  longitude     56570 non-null  float64\n",
      " 16  elevation     34975 non-null  float64\n",
      " 17  location      56570 non-null  object \n",
      " 18  rowid         56570 non-null  object \n",
      " 19  Position      0 non-null      float64\n",
      " 20  geolocation   56570 non-null  object \n",
      "dtypes: float64(13), int64(2), object(6)\n",
      "memory usage: 9.1+ MB\n"
     ]
    }
   ],
   "source": [
    "#Print information of dataset which includes datatypes\n",
    "df.info()"
   ]
  },
  {
   "cell_type": "markdown",
   "id": "39ec07a6",
   "metadata": {},
   "source": [
    "* From the above information it shows *Position* feature has no values.\n",
    "* In *elevation* feature we found some missing values."
   ]
  },
  {
   "cell_type": "code",
   "execution_count": 6,
   "id": "856e7934",
   "metadata": {},
   "outputs": [
    {
     "data": {
      "text/html": [
       "<div>\n",
       "<style scoped>\n",
       "    .dataframe tbody tr th:only-of-type {\n",
       "        vertical-align: middle;\n",
       "    }\n",
       "\n",
       "    .dataframe tbody tr th {\n",
       "        vertical-align: top;\n",
       "    }\n",
       "\n",
       "    .dataframe thead th {\n",
       "        text-align: right;\n",
       "    }\n",
       "</style>\n",
       "<table border=\"1\" class=\"dataframe\">\n",
       "  <thead>\n",
       "    <tr style=\"text-align: right;\">\n",
       "      <th></th>\n",
       "      <th>boardtype</th>\n",
       "      <th>boardid</th>\n",
       "      <th>temp_max</th>\n",
       "      <th>temp_min</th>\n",
       "      <th>temp_avg</th>\n",
       "      <th>light_max</th>\n",
       "      <th>light_min</th>\n",
       "      <th>light_avg</th>\n",
       "      <th>humidity_min</th>\n",
       "      <th>humidity_max</th>\n",
       "      <th>humidity_avg</th>\n",
       "      <th>latitude</th>\n",
       "      <th>longitude</th>\n",
       "      <th>elevation</th>\n",
       "      <th>Position</th>\n",
       "    </tr>\n",
       "  </thead>\n",
       "  <tbody>\n",
       "    <tr>\n",
       "      <th>count</th>\n",
       "      <td>56570.0</td>\n",
       "      <td>56570.000000</td>\n",
       "      <td>56570.000000</td>\n",
       "      <td>56570.000000</td>\n",
       "      <td>56570.000000</td>\n",
       "      <td>56570.000000</td>\n",
       "      <td>56570.000000</td>\n",
       "      <td>56570.000000</td>\n",
       "      <td>56570.000000</td>\n",
       "      <td>56570.000000</td>\n",
       "      <td>56570.000000</td>\n",
       "      <td>56570.000000</td>\n",
       "      <td>56570.000000</td>\n",
       "      <td>34975.000000</td>\n",
       "      <td>0.0</td>\n",
       "    </tr>\n",
       "    <tr>\n",
       "      <th>mean</th>\n",
       "      <td>1.0</td>\n",
       "      <td>507.918738</td>\n",
       "      <td>18.522650</td>\n",
       "      <td>18.522650</td>\n",
       "      <td>18.522650</td>\n",
       "      <td>48.674527</td>\n",
       "      <td>48.674527</td>\n",
       "      <td>48.674527</td>\n",
       "      <td>49.431043</td>\n",
       "      <td>49.431043</td>\n",
       "      <td>49.431043</td>\n",
       "      <td>-37.818444</td>\n",
       "      <td>144.950806</td>\n",
       "      <td>12.973810</td>\n",
       "      <td>NaN</td>\n",
       "    </tr>\n",
       "    <tr>\n",
       "      <th>std</th>\n",
       "      <td>0.0</td>\n",
       "      <td>2.673337</td>\n",
       "      <td>5.498701</td>\n",
       "      <td>5.498701</td>\n",
       "      <td>5.498701</td>\n",
       "      <td>43.973493</td>\n",
       "      <td>43.973493</td>\n",
       "      <td>43.973493</td>\n",
       "      <td>13.413633</td>\n",
       "      <td>13.413633</td>\n",
       "      <td>13.413633</td>\n",
       "      <td>0.002513</td>\n",
       "      <td>0.017177</td>\n",
       "      <td>14.777655</td>\n",
       "      <td>NaN</td>\n",
       "    </tr>\n",
       "    <tr>\n",
       "      <th>min</th>\n",
       "      <td>1.0</td>\n",
       "      <td>501.000000</td>\n",
       "      <td>4.200000</td>\n",
       "      <td>4.200000</td>\n",
       "      <td>4.200000</td>\n",
       "      <td>0.000000</td>\n",
       "      <td>0.000000</td>\n",
       "      <td>0.000000</td>\n",
       "      <td>-24.900000</td>\n",
       "      <td>-24.900000</td>\n",
       "      <td>-24.900000</td>\n",
       "      <td>-37.820354</td>\n",
       "      <td>144.940482</td>\n",
       "      <td>0.030000</td>\n",
       "      <td>NaN</td>\n",
       "    </tr>\n",
       "    <tr>\n",
       "      <th>25%</th>\n",
       "      <td>1.0</td>\n",
       "      <td>506.000000</td>\n",
       "      <td>14.800000</td>\n",
       "      <td>14.800000</td>\n",
       "      <td>14.800000</td>\n",
       "      <td>2.900000</td>\n",
       "      <td>2.900000</td>\n",
       "      <td>2.900000</td>\n",
       "      <td>41.700000</td>\n",
       "      <td>41.700000</td>\n",
       "      <td>41.700000</td>\n",
       "      <td>-37.819904</td>\n",
       "      <td>144.940485</td>\n",
       "      <td>0.030000</td>\n",
       "      <td>NaN</td>\n",
       "    </tr>\n",
       "    <tr>\n",
       "      <th>50%</th>\n",
       "      <td>1.0</td>\n",
       "      <td>509.000000</td>\n",
       "      <td>17.700000</td>\n",
       "      <td>17.700000</td>\n",
       "      <td>17.700000</td>\n",
       "      <td>49.900000</td>\n",
       "      <td>49.900000</td>\n",
       "      <td>49.900000</td>\n",
       "      <td>51.000000</td>\n",
       "      <td>51.000000</td>\n",
       "      <td>51.000000</td>\n",
       "      <td>-37.819712</td>\n",
       "      <td>144.941325</td>\n",
       "      <td>2.740000</td>\n",
       "      <td>NaN</td>\n",
       "    </tr>\n",
       "    <tr>\n",
       "      <th>75%</th>\n",
       "      <td>1.0</td>\n",
       "      <td>510.000000</td>\n",
       "      <td>21.900000</td>\n",
       "      <td>21.900000</td>\n",
       "      <td>21.900000</td>\n",
       "      <td>94.900000</td>\n",
       "      <td>94.900000</td>\n",
       "      <td>94.900000</td>\n",
       "      <td>58.700000</td>\n",
       "      <td>58.700000</td>\n",
       "      <td>58.700000</td>\n",
       "      <td>-37.814922</td>\n",
       "      <td>144.979018</td>\n",
       "      <td>29.910000</td>\n",
       "      <td>NaN</td>\n",
       "    </tr>\n",
       "    <tr>\n",
       "      <th>max</th>\n",
       "      <td>1.0</td>\n",
       "      <td>511.000000</td>\n",
       "      <td>45.200000</td>\n",
       "      <td>45.200000</td>\n",
       "      <td>45.200000</td>\n",
       "      <td>98.700000</td>\n",
       "      <td>98.700000</td>\n",
       "      <td>98.700000</td>\n",
       "      <td>102.500000</td>\n",
       "      <td>102.500000</td>\n",
       "      <td>102.500000</td>\n",
       "      <td>-37.813073</td>\n",
       "      <td>144.982258</td>\n",
       "      <td>38.790000</td>\n",
       "      <td>NaN</td>\n",
       "    </tr>\n",
       "  </tbody>\n",
       "</table>\n",
       "</div>"
      ],
      "text/plain": [
       "       boardtype       boardid      temp_max      temp_min      temp_avg  \\\n",
       "count    56570.0  56570.000000  56570.000000  56570.000000  56570.000000   \n",
       "mean         1.0    507.918738     18.522650     18.522650     18.522650   \n",
       "std          0.0      2.673337      5.498701      5.498701      5.498701   \n",
       "min          1.0    501.000000      4.200000      4.200000      4.200000   \n",
       "25%          1.0    506.000000     14.800000     14.800000     14.800000   \n",
       "50%          1.0    509.000000     17.700000     17.700000     17.700000   \n",
       "75%          1.0    510.000000     21.900000     21.900000     21.900000   \n",
       "max          1.0    511.000000     45.200000     45.200000     45.200000   \n",
       "\n",
       "          light_max     light_min     light_avg  humidity_min  humidity_max  \\\n",
       "count  56570.000000  56570.000000  56570.000000  56570.000000  56570.000000   \n",
       "mean      48.674527     48.674527     48.674527     49.431043     49.431043   \n",
       "std       43.973493     43.973493     43.973493     13.413633     13.413633   \n",
       "min        0.000000      0.000000      0.000000    -24.900000    -24.900000   \n",
       "25%        2.900000      2.900000      2.900000     41.700000     41.700000   \n",
       "50%       49.900000     49.900000     49.900000     51.000000     51.000000   \n",
       "75%       94.900000     94.900000     94.900000     58.700000     58.700000   \n",
       "max       98.700000     98.700000     98.700000    102.500000    102.500000   \n",
       "\n",
       "       humidity_avg      latitude     longitude     elevation  Position  \n",
       "count  56570.000000  56570.000000  56570.000000  34975.000000       0.0  \n",
       "mean      49.431043    -37.818444    144.950806     12.973810       NaN  \n",
       "std       13.413633      0.002513      0.017177     14.777655       NaN  \n",
       "min      -24.900000    -37.820354    144.940482      0.030000       NaN  \n",
       "25%       41.700000    -37.819904    144.940485      0.030000       NaN  \n",
       "50%       51.000000    -37.819712    144.941325      2.740000       NaN  \n",
       "75%       58.700000    -37.814922    144.979018     29.910000       NaN  \n",
       "max      102.500000    -37.813073    144.982258     38.790000       NaN  "
      ]
     },
     "execution_count": 6,
     "metadata": {},
     "output_type": "execute_result"
    }
   ],
   "source": [
    "# Lets see the summary of the data \n",
    "df.describe()"
   ]
  },
  {
   "cell_type": "markdown",
   "id": "e1e0347a",
   "metadata": {},
   "source": [
    "* As already mentioned before 'elevation' feature has null values it needs to be treated.\n",
    "* Position feature has no values so we can drop that feature."
   ]
  },
  {
   "cell_type": "code",
   "execution_count": 7,
   "id": "1bf71d47",
   "metadata": {},
   "outputs": [
    {
     "data": {
      "text/plain": [
       "timestamp           0\n",
       "mac                 0\n",
       "boardtype           0\n",
       "boardid             0\n",
       "temp_max            0\n",
       "temp_min            0\n",
       "temp_avg            0\n",
       "light_max           0\n",
       "light_min           0\n",
       "light_avg           0\n",
       "humidity_min        0\n",
       "humidity_max        0\n",
       "humidity_avg        0\n",
       "model               0\n",
       "latitude            0\n",
       "longitude           0\n",
       "elevation       21595\n",
       "location            0\n",
       "rowid               0\n",
       "Position        56570\n",
       "geolocation         0\n",
       "dtype: int64"
      ]
     },
     "execution_count": 7,
     "metadata": {},
     "output_type": "execute_result"
    }
   ],
   "source": [
    "#Checking the null values with isnull function\n",
    "df.isnull().sum()"
   ]
  },
  {
   "cell_type": "markdown",
   "id": "b87f3df5",
   "metadata": {},
   "source": [
    "#### 2. Fill in the missing entries. For filling any feature, you can use either the mean or median value of the feature values from observed entries. Explain the reason behind your choice and print replacement value of each feature."
   ]
  },
  {
   "cell_type": "code",
   "execution_count": 8,
   "id": "ed0f5295",
   "metadata": {},
   "outputs": [],
   "source": [
    "# Lets drop 'Position' feature\n",
    "df.drop(columns=['Position'], inplace=True)"
   ]
  },
  {
   "cell_type": "code",
   "execution_count": 9,
   "id": "4dee31af",
   "metadata": {},
   "outputs": [
    {
     "data": {
      "text/plain": [
       "Index(['timestamp', 'mac', 'boardtype', 'boardid', 'temp_max', 'temp_min',\n",
       "       'temp_avg', 'light_max', 'light_min', 'light_avg', 'humidity_min',\n",
       "       'humidity_max', 'humidity_avg', 'model', 'latitude', 'longitude',\n",
       "       'elevation', 'location', 'rowid', 'geolocation'],\n",
       "      dtype='object')"
      ]
     },
     "execution_count": 9,
     "metadata": {},
     "output_type": "execute_result"
    }
   ],
   "source": [
    "df.columns"
   ]
  },
  {
   "cell_type": "markdown",
   "id": "33b1ffe8",
   "metadata": {},
   "source": [
    "* Position feature is removed\n",
    "* Now Lets impute the null values of 'elevation' feature with mean, median or mode values\n"
   ]
  },
  {
   "cell_type": "code",
   "execution_count": 10,
   "id": "a0863d29",
   "metadata": {},
   "outputs": [
    {
     "name": "stdout",
     "output_type": "stream",
     "text": [
      "[      nan 2.257e+01 2.996e+01 3.010e+01 2.991e+01 3.879e+01 3.750e+00\n",
      " 3.000e-02 7.100e-01 2.740e+00]\n",
      "elevation\n",
      "0.03     10578\n",
      "2.74      6023\n",
      "0.71      3198\n",
      "38.79     2918\n",
      "29.91     2915\n",
      "29.96     2903\n",
      "30.10     2728\n",
      "22.57     2725\n",
      "3.75       987\n",
      "Name: count, dtype: int64\n"
     ]
    }
   ],
   "source": [
    "# Lets find unique elements present in the elevation feature\n",
    "print(df['elevation'].unique())\n",
    "print(df['elevation'].value_counts())"
   ]
  },
  {
   "cell_type": "code",
   "execution_count": 11,
   "id": "f584b6ef",
   "metadata": {},
   "outputs": [],
   "source": [
    "#Lets fill the null values with mean value\n",
    "df['elevation'].fillna(df['elevation'].mean(), inplace=True)"
   ]
  },
  {
   "cell_type": "code",
   "execution_count": 12,
   "id": "54ccee4b",
   "metadata": {},
   "outputs": [
    {
     "data": {
      "text/plain": [
       "timestamp       0\n",
       "mac             0\n",
       "boardtype       0\n",
       "boardid         0\n",
       "temp_max        0\n",
       "temp_min        0\n",
       "temp_avg        0\n",
       "light_max       0\n",
       "light_min       0\n",
       "light_avg       0\n",
       "humidity_min    0\n",
       "humidity_max    0\n",
       "humidity_avg    0\n",
       "model           0\n",
       "latitude        0\n",
       "longitude       0\n",
       "elevation       0\n",
       "location        0\n",
       "rowid           0\n",
       "geolocation     0\n",
       "dtype: int64"
      ]
     },
     "execution_count": 12,
     "metadata": {},
     "output_type": "execute_result"
    }
   ],
   "source": [
    "# lets check whether we treated all the null values \n",
    "df.isnull().sum()"
   ]
  },
  {
   "cell_type": "markdown",
   "id": "373bc7b8",
   "metadata": {},
   "source": [
    "* Now all the Null values are treated.\n",
    "* In the Elevation feature minimum value is 0.03, maximum value is 38.79, from the summary we observe the mean value has 12.97 and std has 14.77 the distance between the mean and std shows it is normally distributed without any skewness, so we imputed with mean value."
   ]
  },
  {
   "cell_type": "code",
   "execution_count": 13,
   "id": "7e0570cc",
   "metadata": {},
   "outputs": [
    {
     "data": {
      "text/plain": [
       "<Axes: xlabel='elevation', ylabel='Density'>"
      ]
     },
     "execution_count": 13,
     "metadata": {},
     "output_type": "execute_result"
    },
    {
     "data": {
      "image/png": "[encoded data removed]",
      "text/plain": [
       "<Figure size 640x480 with 1 Axes>"
      ]
     },
     "metadata": {},
     "output_type": "display_data"
    }
   ],
   "source": [
    "# Lets visualize the elevation feature with distribution plot\n",
    "sns.distplot(df['elevation'], kde=True, color='red')"
   ]
  },
  {
   "cell_type": "markdown",
   "id": "ca37a762",
   "metadata": {},
   "source": [
    "* From the above visualization 12 has maximum range which is the mean value observed from summary, so we imputed with mean value."
   ]
  },
  {
   "cell_type": "markdown",
   "id": "395b60d5",
   "metadata": {},
   "source": [
    "#### 3. Use a histogram to show the distribution of the variable “location”. Explain the distribution and show how many locations are there in total. "
   ]
  },
  {
   "cell_type": "code",
   "execution_count": 14,
   "id": "a1117b0b",
   "metadata": {},
   "outputs": [
    {
     "data": {
      "text/plain": [
       "(array([42381.,     0.,     0.,     0.,     0.,     0.,     0.,     0.,\n",
       "            0., 14189.]),\n",
       " array([0. , 0.1, 0.2, 0.3, 0.4, 0.5, 0.6, 0.7, 0.8, 0.9, 1. ]),\n",
       " <BarContainer object of 10 artists>)"
      ]
     },
     "execution_count": 14,
     "metadata": {},
     "output_type": "execute_result"
    },
    {
     "data": {
      "image/png": "[encoded data removed]",
      "text/plain": [
       "<Figure size 640x480 with 1 Axes>"
      ]
     },
     "metadata": {},
     "output_type": "display_data"
    }
   ],
   "source": [
    "# Using the histogram plot we can check distribution of location feature in total\n",
    "\n",
    "plt.hist(df['location'])"
   ]
  },
  {
   "cell_type": "markdown",
   "id": "938e857f",
   "metadata": {},
   "source": [
    "* From the histogram plot we have 2 locations ***Docklands Library** and **Fitzroy Gardens***.\n",
    "* The distribution of data show that *Docklands Library* has totally **42381** locations.\n",
    "* *Fitzroy Gardens* has totally **14189** locations. "
   ]
  },
  {
   "cell_type": "markdown",
   "id": "ee36607f",
   "metadata": {},
   "source": [
    "#### 4. Encode the categorical variable “location\" using an appropriate encoding approach and display the encoded values. Justify your selection of encoding approaches."
   ]
  },
  {
   "cell_type": "code",
   "execution_count": 15,
   "id": "1e94aef4",
   "metadata": {},
   "outputs": [
    {
     "name": "stdout",
     "output_type": "stream",
     "text": [
      "                       timestamp               mac  boardtype  boardid  \\\n",
      "0      2015-01-24T16:15:00+05:30  0013a20040b31571          1      510   \n",
      "1      2015-01-24T16:45:00+05:30  0013a20040b5b337          1      511   \n",
      "2      2015-01-24T16:45:00+05:30  0013a20040b31583          1      509   \n",
      "3      2015-01-24T17:25:00+05:30  0013a20040b31583          1      509   \n",
      "4      2015-01-24T17:25:00+05:30  0013a20040b31571          1      510   \n",
      "...                          ...               ...        ...      ...   \n",
      "56565  2015-01-05T16:45:00+05:30  0013a20040b31583          1      509   \n",
      "56566  2015-01-05T16:50:00+05:30  0013a20040b4b755          1      508   \n",
      "56567  2015-01-05T16:55:00+05:30  0013a20040b31583          1      509   \n",
      "56568  2015-01-05T16:55:00+05:30  0013a20040b31571          1      510   \n",
      "56569  2015-01-05T16:55:00+05:30  0013a20040b516ed          1      505   \n",
      "\n",
      "       temp_max  temp_min  temp_avg  light_max  light_min  light_avg  \\\n",
      "0          19.4      19.4      19.4        0.9        0.9        0.9   \n",
      "1          19.7      19.7      19.7       10.6       10.6       10.6   \n",
      "2          19.7      19.7      19.7        3.1        3.1        3.1   \n",
      "3          19.7      19.7      19.7        3.1        3.1        3.1   \n",
      "4          18.7      18.7      18.7        1.0        1.0        1.0   \n",
      "...         ...       ...       ...        ...        ...        ...   \n",
      "56565      18.1      18.1      18.1        3.4        3.4        3.4   \n",
      "56566      17.1      17.1      17.1        2.1        2.1        2.1   \n",
      "56567      18.1      18.1      18.1        3.5        3.5        3.5   \n",
      "56568      17.1      17.1      17.1        1.3        1.3        1.3   \n",
      "56569      17.7      17.7      17.7        3.1        3.1        3.1   \n",
      "\n",
      "       humidity_min  humidity_max  humidity_avg model   latitude   longitude  \\\n",
      "0              52.7          52.7          52.7   ENV -37.819712  144.941325   \n",
      "1              50.2          50.2          50.2   ENV -37.819500  144.941889   \n",
      "2              57.9          57.9          57.9   ENV -37.819904  144.940485   \n",
      "3              53.7          53.7          53.7   ENV -37.819904  144.940485   \n",
      "4              48.6          48.6          48.6   ENV -37.819712  144.941325   \n",
      "...             ...           ...           ...   ...        ...         ...   \n",
      "56565          61.4          61.4          61.4   ENV -37.819904  144.940485   \n",
      "56566          50.3          50.3          50.3   ENV -37.813408  144.979492   \n",
      "56567          62.5          62.5          62.5   ENV -37.819904  144.940485   \n",
      "56568          54.1          54.1          54.1   ENV -37.819712  144.941325   \n",
      "56569          57.8          57.8          57.8   ENV -37.813073  144.980406   \n",
      "\n",
      "       elevation  location               rowid               geolocation  \n",
      "0       12.97381         0  510-20150124104500  -37.8197121, 144.9413253  \n",
      "1       12.97381         0  511-20150124111500  -37.8195002, 144.9418888  \n",
      "2       12.97381         0  509-20150124111500  -37.8199043, 144.9404851  \n",
      "3       12.97381         0  509-20150124115500  -37.8199043, 144.9404851  \n",
      "4       12.97381         0  510-20150124115500  -37.8197121, 144.9413253  \n",
      "...          ...       ...                 ...                       ...  \n",
      "56565   12.97381         0  509-20150105111500  -37.8199043, 144.9404851  \n",
      "56566   30.10000         1  508-20150105112000  -37.8134078, 144.9794923  \n",
      "56567   12.97381         0  509-20150105112500  -37.8199043, 144.9404851  \n",
      "56568   12.97381         0  510-20150105112500  -37.8197121, 144.9413253  \n",
      "56569   29.91000         1  505-20150105112500   -37.813073, 144.9804061  \n",
      "\n",
      "[56570 rows x 20 columns]\n"
     ]
    }
   ],
   "source": [
    "# Since 'Location' is the categorical variable we encode the location feature using Label encoder\n",
    "from sklearn.preprocessing import LabelEncoder\n",
    "le = LabelEncoder()\n",
    "\n",
    "# fit the encoder to the data and transform it\n",
    "df['location'] = le.fit_transform(df['location'])\n",
    "\n",
    "print(df)"
   ]
  },
  {
   "cell_type": "code",
   "execution_count": 16,
   "id": "fbf089aa",
   "metadata": {},
   "outputs": [
    {
     "data": {
      "text/plain": [
       "0        0\n",
       "1        0\n",
       "2        0\n",
       "3        0\n",
       "4        0\n",
       "        ..\n",
       "56565    0\n",
       "56566    1\n",
       "56567    0\n",
       "56568    0\n",
       "56569    1\n",
       "Name: location, Length: 56570, dtype: int32"
      ]
     },
     "execution_count": 16,
     "metadata": {},
     "output_type": "execute_result"
    }
   ],
   "source": [
    "df['location']"
   ]
  },
  {
   "cell_type": "markdown",
   "id": "a20ff5c7",
   "metadata": {},
   "source": [
    "* We choose Label Encoder for the encoding the location feature.\n",
    "* *Docklands Library* as **0** and *Fitzroy Gardens* as **1**."
   ]
  },
  {
   "cell_type": "code",
   "execution_count": 17,
   "id": "bc29765b",
   "metadata": {},
   "outputs": [
    {
     "data": {
      "text/plain": [
       "location\n",
       "0    42381\n",
       "1    14189\n",
       "Name: count, dtype: int64"
      ]
     },
     "execution_count": 17,
     "metadata": {},
     "output_type": "execute_result"
    }
   ],
   "source": [
    "df['location'].value_counts()"
   ]
  },
  {
   "cell_type": "markdown",
   "id": "016b4b2a",
   "metadata": {},
   "source": [
    "* Location feature resembles places where the sensors are located, compared to other encoding approaches Label Encoder is helpful for analysis."
   ]
  },
  {
   "cell_type": "markdown",
   "id": "f2006e54",
   "metadata": {},
   "source": [
    "#### 5. Apply the min-max scaling on features \"[boardtype, boardid ,temp_max, temp_min, temp_avg,light_max, light_min,light_avg, humidity_min, humidity_max, humidity_avg]\" . Plot distribution of first six features before and after scaling. Is there any difference? Please explain."
   ]
  },
  {
   "cell_type": "code",
   "execution_count": 18,
   "id": "1c76e2c7",
   "metadata": {},
   "outputs": [],
   "source": [
    "from sklearn.preprocessing import MinMaxScaler\n",
    "\n",
    "scaler = MinMaxScaler()\n",
    "scaled_features = scaler.fit_transform(df[['boardtype', 'boardid', 'temp_max', 'temp_min', 'temp_avg', 'light_max', 'light_min', 'light_avg', 'humidity_min', 'humidity_max', 'humidity_avg']])\n",
    "\n",
    "# create a new dataframe with the scaled features\n",
    "scaled_df = pd.DataFrame(scaled_features, columns=['boardtype_scaled', 'boardid_scaled', 'temp_max_scaled', 'temp_min_scaled', 'temp_avg_scaled', 'light_max_scaled', 'light_min_scaled', 'light_avg_scaled', 'humidity_min_scaled', 'humidity_max_scaled', 'humidity_avg_scaled'])"
   ]
  },
  {
   "cell_type": "code",
   "execution_count": 19,
   "id": "5ba071b0",
   "metadata": {},
   "outputs": [
    {
     "data": {
      "image/png": "[encoded data removed]",
      "text/plain": [
       "<Figure size 1500x1000 with 6 Axes>"
      ]
     },
     "metadata": {},
     "output_type": "display_data"
    },
    {
     "data": {
      "image/png": "[encoded data removed]",
      "text/plain": [
       "<Figure size 1500x1000 with 6 Axes>"
      ]
     },
     "metadata": {},
     "output_type": "display_data"
    }
   ],
   "source": [
    "import matplotlib.pyplot as plt\n",
    "\n",
    "# plotting the distribution of features before scaling\n",
    "fig, axs = plt.subplots(2, 3, figsize=(15, 10))\n",
    "axs[0, 0].hist(df['temp_max'], bins=50)\n",
    "axs[0, 0].set_title('Temp Max (Before Scaling)')\n",
    "axs[0, 1].hist(df['temp_min'], bins=50)\n",
    "axs[0, 1].set_title('Temp Min (Before Scaling)')\n",
    "axs[0, 2].hist(df['temp_avg'], bins=50)\n",
    "axs[0, 2].set_title('Temp Avg (Before Scaling)')\n",
    "axs[1, 0].hist(df['light_max'], bins=50)\n",
    "axs[1, 0].set_title('Light Max (Before Scaling)')\n",
    "axs[1, 1].hist(df['light_min'], bins=50)\n",
    "axs[1, 1].set_title('Light Min (Before Scaling)')\n",
    "axs[1, 2].hist(df['light_avg'], bins=50)\n",
    "axs[1, 2].set_title('Light Avg (Before Scaling)')\n",
    "plt.show()\n",
    "\n",
    "# plotting the distribution of features after scaling\n",
    "fig, axs = plt.subplots(2, 3, figsize=(15, 10))\n",
    "axs[0, 0].hist(scaled_df['temp_max_scaled'], bins=50)\n",
    "axs[0, 0].set_title('Temp Max (After Scaling)')\n",
    "axs[0, 1].hist(scaled_df['temp_min_scaled'], bins=50)\n",
    "axs[0, 1].set_title('Temp Min (After Scaling)')\n",
    "axs[0, 2].hist(scaled_df['temp_avg_scaled'], bins=50)\n",
    "axs[0, 2].set_title('Temp Avg (After Scaling)')\n",
    "axs[1, 0].hist(scaled_df['light_max_scaled'], bins=50)\n",
    "axs[1, 0].set_title('Light Max (After Scaling)')\n",
    "axs[1, 1].hist(scaled_df['light_min_scaled'], bins=50)\n",
    "axs[1, 1].set_title('Light Min (After Scaling)')\n",
    "axs[1, 2].hist(scaled_df['light_avg_scaled'], bins=50)\n",
    "axs[1, 2].set_title('Light Avg (After Scaling)')\n",
    "plt.show()"
   ]
  },
  {
   "cell_type": "markdown",
   "id": "0d35e57b",
   "metadata": {},
   "source": [
    "* After converted particular features to min max scaler.\n",
    "* The visualization shows no difference apart from scaling.\n",
    "\n",
    "#### BEFORE SCALING\n",
    "* Temperature max, min, avg shows normally distributed, might be slightly right skewed.\n",
    "* In Light max, min, avg shows 0-15 highly right skewed and 75-100 highly left skewed.\n",
    "\n",
    "#### AFTER SCALING\n",
    "* Temperature max, min, avg shows normally distributed.\n",
    "* It is scaled as categorical features Light max, min, avg shows 0-0.15 resemble 0 and 0.75-1 resembles as 1.\n",
    "\n",
    "* Now the dataset ready for further analysis."
   ]
  },
  {
   "cell_type": "markdown",
   "id": "818d8af4",
   "metadata": {},
   "source": [
    "## REFERENCING\n",
    "\n",
    "1) “Sensor readings, with temperature, light, humidity every 5 minutes at 8 locations (trial, 2014 to 2015) - Victorian Government Data Directory,” discover.data.vic.gov.au. https://discover.data.vic.gov.au/dataset/sensor-readings-with-temperature-light-humidity-every-5-minutes-at-8-locations-trial-2014-2015\n",
    "\n",
    "2) data.vic.gov.au, “Sensor readings, with temperature, light, humidity every 5 minutes at 8 locations (trial, 2014 to 2015),” Research Data Australia. https://researchdata.edu.au/sensor-readings-temperature-2014-2015/2296422 (accessed Jul. 14, 2024).\n"
   ]
  }
 ],
 "metadata": {
  "kernelspec": {
   "display_name": "Python 3 (ipykernel)",
   "language": "python",
   "name": "python3"
  },
  "language_info": {
   "codemirror_mode": {
    "name": "ipython",
    "version": 3
   },
   "file_extension": ".py",
   "mimetype": "text/x-python",
   "name": "python",
   "nbconvert_exporter": "python",
   "pygments_lexer": "ipython3",
   "version": "3.11.7"
  }
 },
 "nbformat": 4,
 "nbformat_minor": 5
}
