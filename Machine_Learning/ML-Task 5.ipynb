{
 "cells": [
  {
   "cell_type": "markdown",
   "id": "ce8bf690",
   "metadata": {},
   "source": [
    "## Task - 5p\n",
    "\n",
    "* **Name :** M.Rachel\n",
    "* **Student No. :** 224234147\n",
    "* **Deakin Mail :** s224234147@deakin.edu.au\n",
    "* **Email Address:** rachelriney1608@gmail.com"
   ]
  },
  {
   "cell_type": "markdown",
   "id": "9fbe2bc5",
   "metadata": {},
   "source": [
    "### PROBLEM STATEMENT\n",
    "\n",
    "The data is related with direct marketing campaigns of a Portuguese banking institution. The marketing campaigns were based on phone calls. Often, more than one contact to the same client was required, in order to access if the product (bank term deposit) would be ('yes') or not ('no') subscribed. There are no missing values\n",
    "\n",
    "### Features\n",
    "\n",
    "* age\n",
    "* job\t\n",
    "* marital\t\n",
    "* education\n",
    "* default\n",
    "* balance\n",
    "* housing\t\n",
    "* loan\n",
    "* contact\n",
    "* day\n",
    "* month\n",
    "* duration\n",
    "* campaign\n",
    "* pdays\n",
    "* previous\n",
    "* poutcome\n",
    "\n",
    "### Target\n",
    "\n",
    "y- deposit subscription\n",
    "\n"
   ]
  },
  {
   "cell_type": "markdown",
   "id": "c3f66275",
   "metadata": {},
   "source": [
    "#### 1. Load “bank-full.csv” dataset and create a logistic regression model for predicting target variable (subscribed a term deposit or not). Use appropriate evaluation methods and report the performance of the model using appropriate metrics."
   ]
  },
  {
   "cell_type": "code",
   "execution_count": 1,
   "id": "b6b478d0",
   "metadata": {},
   "outputs": [],
   "source": [
    "# Import Necessary Libraries\n",
    "import numpy as np\n",
    "import pandas as pd\n",
    "import matplotlib.pyplot as plt\n",
    "import seaborn as sns\n",
    "\n",
    "import warnings\n",
    "warnings.filterwarnings('ignore')"
   ]
  },
  {
   "cell_type": "code",
   "execution_count": 2,
   "id": "f3d5e18a",
   "metadata": {},
   "outputs": [],
   "source": [
    "#load the dataset\n",
    "data = pd.read_csv(\"F:/Data Science/Datasets/bank-full.csv\", sep=';')"
   ]
  },
  {
   "cell_type": "code",
   "execution_count": 3,
   "id": "36dc2b08",
   "metadata": {},
   "outputs": [
    {
     "data": {
      "text/html": [
       "<div>\n",
       "<style scoped>\n",
       "    .dataframe tbody tr th:only-of-type {\n",
       "        vertical-align: middle;\n",
       "    }\n",
       "\n",
       "    .dataframe tbody tr th {\n",
       "        vertical-align: top;\n",
       "    }\n",
       "\n",
       "    .dataframe thead th {\n",
       "        text-align: right;\n",
       "    }\n",
       "</style>\n",
       "<table border=\"1\" class=\"dataframe\">\n",
       "  <thead>\n",
       "    <tr style=\"text-align: right;\">\n",
       "      <th></th>\n",
       "      <th>age</th>\n",
       "      <th>job</th>\n",
       "      <th>marital</th>\n",
       "      <th>education</th>\n",
       "      <th>default</th>\n",
       "      <th>balance</th>\n",
       "      <th>housing</th>\n",
       "      <th>loan</th>\n",
       "      <th>contact</th>\n",
       "      <th>day</th>\n",
       "      <th>month</th>\n",
       "      <th>duration</th>\n",
       "      <th>campaign</th>\n",
       "      <th>pdays</th>\n",
       "      <th>previous</th>\n",
       "      <th>poutcome</th>\n",
       "      <th>y</th>\n",
       "    </tr>\n",
       "  </thead>\n",
       "  <tbody>\n",
       "    <tr>\n",
       "      <th>0</th>\n",
       "      <td>58</td>\n",
       "      <td>management</td>\n",
       "      <td>married</td>\n",
       "      <td>tertiary</td>\n",
       "      <td>no</td>\n",
       "      <td>2143</td>\n",
       "      <td>yes</td>\n",
       "      <td>no</td>\n",
       "      <td>unknown</td>\n",
       "      <td>5</td>\n",
       "      <td>may</td>\n",
       "      <td>261</td>\n",
       "      <td>1</td>\n",
       "      <td>-1</td>\n",
       "      <td>0</td>\n",
       "      <td>unknown</td>\n",
       "      <td>no</td>\n",
       "    </tr>\n",
       "    <tr>\n",
       "      <th>1</th>\n",
       "      <td>44</td>\n",
       "      <td>technician</td>\n",
       "      <td>single</td>\n",
       "      <td>secondary</td>\n",
       "      <td>no</td>\n",
       "      <td>29</td>\n",
       "      <td>yes</td>\n",
       "      <td>no</td>\n",
       "      <td>unknown</td>\n",
       "      <td>5</td>\n",
       "      <td>may</td>\n",
       "      <td>151</td>\n",
       "      <td>1</td>\n",
       "      <td>-1</td>\n",
       "      <td>0</td>\n",
       "      <td>unknown</td>\n",
       "      <td>no</td>\n",
       "    </tr>\n",
       "    <tr>\n",
       "      <th>2</th>\n",
       "      <td>33</td>\n",
       "      <td>entrepreneur</td>\n",
       "      <td>married</td>\n",
       "      <td>secondary</td>\n",
       "      <td>no</td>\n",
       "      <td>2</td>\n",
       "      <td>yes</td>\n",
       "      <td>yes</td>\n",
       "      <td>unknown</td>\n",
       "      <td>5</td>\n",
       "      <td>may</td>\n",
       "      <td>76</td>\n",
       "      <td>1</td>\n",
       "      <td>-1</td>\n",
       "      <td>0</td>\n",
       "      <td>unknown</td>\n",
       "      <td>no</td>\n",
       "    </tr>\n",
       "    <tr>\n",
       "      <th>3</th>\n",
       "      <td>47</td>\n",
       "      <td>blue-collar</td>\n",
       "      <td>married</td>\n",
       "      <td>unknown</td>\n",
       "      <td>no</td>\n",
       "      <td>1506</td>\n",
       "      <td>yes</td>\n",
       "      <td>no</td>\n",
       "      <td>unknown</td>\n",
       "      <td>5</td>\n",
       "      <td>may</td>\n",
       "      <td>92</td>\n",
       "      <td>1</td>\n",
       "      <td>-1</td>\n",
       "      <td>0</td>\n",
       "      <td>unknown</td>\n",
       "      <td>no</td>\n",
       "    </tr>\n",
       "    <tr>\n",
       "      <th>4</th>\n",
       "      <td>33</td>\n",
       "      <td>unknown</td>\n",
       "      <td>single</td>\n",
       "      <td>unknown</td>\n",
       "      <td>no</td>\n",
       "      <td>1</td>\n",
       "      <td>no</td>\n",
       "      <td>no</td>\n",
       "      <td>unknown</td>\n",
       "      <td>5</td>\n",
       "      <td>may</td>\n",
       "      <td>198</td>\n",
       "      <td>1</td>\n",
       "      <td>-1</td>\n",
       "      <td>0</td>\n",
       "      <td>unknown</td>\n",
       "      <td>no</td>\n",
       "    </tr>\n",
       "  </tbody>\n",
       "</table>\n",
       "</div>"
      ],
      "text/plain": [
       "   age           job  marital  education default  balance housing loan  \\\n",
       "0   58    management  married   tertiary      no     2143     yes   no   \n",
       "1   44    technician   single  secondary      no       29     yes   no   \n",
       "2   33  entrepreneur  married  secondary      no        2     yes  yes   \n",
       "3   47   blue-collar  married    unknown      no     1506     yes   no   \n",
       "4   33       unknown   single    unknown      no        1      no   no   \n",
       "\n",
       "   contact  day month  duration  campaign  pdays  previous poutcome   y  \n",
       "0  unknown    5   may       261         1     -1         0  unknown  no  \n",
       "1  unknown    5   may       151         1     -1         0  unknown  no  \n",
       "2  unknown    5   may        76         1     -1         0  unknown  no  \n",
       "3  unknown    5   may        92         1     -1         0  unknown  no  \n",
       "4  unknown    5   may       198         1     -1         0  unknown  no  "
      ]
     },
     "execution_count": 3,
     "metadata": {},
     "output_type": "execute_result"
    }
   ],
   "source": [
    "#dimensions of the data\n",
    "data.head()"
   ]
  },
  {
   "cell_type": "code",
   "execution_count": 18,
   "id": "642e88d2",
   "metadata": {},
   "outputs": [
    {
     "data": {
      "text/plain": [
       "(45211, 17)"
      ]
     },
     "execution_count": 18,
     "metadata": {},
     "output_type": "execute_result"
    }
   ],
   "source": [
    "data.shape"
   ]
  },
  {
   "cell_type": "code",
   "execution_count": 4,
   "id": "30970a0e",
   "metadata": {},
   "outputs": [],
   "source": [
    "# Convert categorical variables to numerical variables\n",
    "data['job'] = pd.Categorical(data['job']).codes\n",
    "data['marital'] = pd.Categorical(data['marital']).codes\n",
    "data['education'] = pd.Categorical(data['education']).codes\n",
    "data['default'] = pd.Categorical(data['default']).codes\n",
    "data['housing'] = pd.Categorical(data['housing']).codes\n",
    "data['loan'] = pd.Categorical(data['loan']).codes\n",
    "data['contact'] = pd.Categorical(data['contact']).codes\n",
    "data['month'] = pd.Categorical(data['month']).codes\n",
    "data['poutcome'] = pd.Categorical(data['poutcome']).codes"
   ]
  },
  {
   "cell_type": "code",
   "execution_count": 5,
   "id": "bb14dd8a",
   "metadata": {},
   "outputs": [],
   "source": [
    "# Split the dataset into features (X) and target (y)\n",
    "X = data.drop('y', axis=1)\n",
    "y = data['y']"
   ]
  },
  {
   "cell_type": "code",
   "execution_count": 6,
   "id": "cd8d4073",
   "metadata": {},
   "outputs": [],
   "source": [
    "import pandas as pd\n",
    "from sklearn.model_selection import train_test_split\n",
    "from sklearn.linear_model import LogisticRegression\n",
    "from sklearn.metrics import accuracy_score, classification_report, confusion_matrix, roc_auc_score\n",
    "\n",
    "# Split the data into training and testing sets\n",
    "X_train, X_test, y_train, y_test = train_test_split(X, y, test_size=0.2, random_state=42)"
   ]
  },
  {
   "cell_type": "code",
   "execution_count": 7,
   "id": "055e8415",
   "metadata": {},
   "outputs": [
    {
     "data": {
      "text/html": [
       "<style>#sk-container-id-1 {color: black;background-color: white;}#sk-container-id-1 pre{padding: 0;}#sk-container-id-1 div.sk-toggleable {background-color: white;}#sk-container-id-1 label.sk-toggleable__label {cursor: pointer;display: block;width: 100%;margin-bottom: 0;padding: 0.3em;box-sizing: border-box;text-align: center;}#sk-container-id-1 label.sk-toggleable__label-arrow:before {content: \"▸\";float: left;margin-right: 0.25em;color: #696969;}#sk-container-id-1 label.sk-toggleable__label-arrow:hover:before {color: black;}#sk-container-id-1 div.sk-estimator:hover label.sk-toggleable__label-arrow:before {color: black;}#sk-container-id-1 div.sk-toggleable__content {max-height: 0;max-width: 0;overflow: hidden;text-align: left;background-color: #f0f8ff;}#sk-container-id-1 div.sk-toggleable__content pre {margin: 0.2em;color: black;border-radius: 0.25em;background-color: #f0f8ff;}#sk-container-id-1 input.sk-toggleable__control:checked~div.sk-toggleable__content {max-height: 200px;max-width: 100%;overflow: auto;}#sk-container-id-1 input.sk-toggleable__control:checked~label.sk-toggleable__label-arrow:before {content: \"▾\";}#sk-container-id-1 div.sk-estimator input.sk-toggleable__control:checked~label.sk-toggleable__label {background-color: #d4ebff;}#sk-container-id-1 div.sk-label input.sk-toggleable__control:checked~label.sk-toggleable__label {background-color: #d4ebff;}#sk-container-id-1 input.sk-hidden--visually {border: 0;clip: rect(1px 1px 1px 1px);clip: rect(1px, 1px, 1px, 1px);height: 1px;margin: -1px;overflow: hidden;padding: 0;position: absolute;width: 1px;}#sk-container-id-1 div.sk-estimator {font-family: monospace;background-color: #f0f8ff;border: 1px dotted black;border-radius: 0.25em;box-sizing: border-box;margin-bottom: 0.5em;}#sk-container-id-1 div.sk-estimator:hover {background-color: #d4ebff;}#sk-container-id-1 div.sk-parallel-item::after {content: \"\";width: 100%;border-bottom: 1px solid gray;flex-grow: 1;}#sk-container-id-1 div.sk-label:hover label.sk-toggleable__label {background-color: #d4ebff;}#sk-container-id-1 div.sk-serial::before {content: \"\";position: absolute;border-left: 1px solid gray;box-sizing: border-box;top: 0;bottom: 0;left: 50%;z-index: 0;}#sk-container-id-1 div.sk-serial {display: flex;flex-direction: column;align-items: center;background-color: white;padding-right: 0.2em;padding-left: 0.2em;position: relative;}#sk-container-id-1 div.sk-item {position: relative;z-index: 1;}#sk-container-id-1 div.sk-parallel {display: flex;align-items: stretch;justify-content: center;background-color: white;position: relative;}#sk-container-id-1 div.sk-item::before, #sk-container-id-1 div.sk-parallel-item::before {content: \"\";position: absolute;border-left: 1px solid gray;box-sizing: border-box;top: 0;bottom: 0;left: 50%;z-index: -1;}#sk-container-id-1 div.sk-parallel-item {display: flex;flex-direction: column;z-index: 1;position: relative;background-color: white;}#sk-container-id-1 div.sk-parallel-item:first-child::after {align-self: flex-end;width: 50%;}#sk-container-id-1 div.sk-parallel-item:last-child::after {align-self: flex-start;width: 50%;}#sk-container-id-1 div.sk-parallel-item:only-child::after {width: 0;}#sk-container-id-1 div.sk-dashed-wrapped {border: 1px dashed gray;margin: 0 0.4em 0.5em 0.4em;box-sizing: border-box;padding-bottom: 0.4em;background-color: white;}#sk-container-id-1 div.sk-label label {font-family: monospace;font-weight: bold;display: inline-block;line-height: 1.2em;}#sk-container-id-1 div.sk-label-container {text-align: center;}#sk-container-id-1 div.sk-container {/* jupyter's `normalize.less` sets `[hidden] { display: none; }` but bootstrap.min.css set `[hidden] { display: none !important; }` so we also need the `!important` here to be able to override the default hidden behavior on the sphinx rendered scikit-learn.org. See: https://github.com/scikit-learn/scikit-learn/issues/21755 */display: inline-block !important;position: relative;}#sk-container-id-1 div.sk-text-repr-fallback {display: none;}</style><div id=\"sk-container-id-1\" class=\"sk-top-container\"><div class=\"sk-text-repr-fallback\"><pre>LogisticRegression()</pre><b>In a Jupyter environment, please rerun this cell to show the HTML representation or trust the notebook. <br />On GitHub, the HTML representation is unable to render, please try loading this page with nbviewer.org.</b></div><div class=\"sk-container\" hidden><div class=\"sk-item\"><div class=\"sk-estimator sk-toggleable\"><input class=\"sk-toggleable__control sk-hidden--visually\" id=\"sk-estimator-id-1\" type=\"checkbox\" checked><label for=\"sk-estimator-id-1\" class=\"sk-toggleable__label sk-toggleable__label-arrow\">LogisticRegression</label><div class=\"sk-toggleable__content\"><pre>LogisticRegression()</pre></div></div></div></div></div>"
      ],
      "text/plain": [
       "LogisticRegression()"
      ]
     },
     "execution_count": 7,
     "metadata": {},
     "output_type": "execute_result"
    }
   ],
   "source": [
    "#Logistic regression\n",
    "log_reg = LogisticRegression()\n",
    "\n",
    "# Train the model\n",
    "log_reg.fit(X_train, y_train)"
   ]
  },
  {
   "cell_type": "code",
   "execution_count": 9,
   "id": "984fea23",
   "metadata": {},
   "outputs": [
    {
     "name": "stdout",
     "output_type": "stream",
     "text": [
      "Accuracy: 0.8839986730067455\n",
      "Classification Report:\n",
      "              precision    recall  f1-score   support\n",
      "\n",
      "          no       0.90      0.98      0.94      7952\n",
      "         yes       0.56      0.18      0.27      1091\n",
      "\n",
      "    accuracy                           0.88      9043\n",
      "   macro avg       0.73      0.58      0.60      9043\n",
      "weighted avg       0.86      0.88      0.86      9043\n",
      "\n",
      "Confusion Matrix:\n",
      "[[7803  149]\n",
      " [ 900  191]]\n",
      "ROC-AUC Score: 0.8157499073266363\n"
     ]
    }
   ],
   "source": [
    "# Make predictions\n",
    "y_pred = log_reg.predict(X_test)\n",
    "\n",
    "y_proba = log_reg.predict_proba(X_test)\n",
    "\n",
    "# Evaluate the model\n",
    "print(\"Accuracy:\", accuracy_score(y_test, y_pred))\n",
    "print(\"Classification Report:\")\n",
    "print(classification_report(y_test, y_pred))\n",
    "print(\"Confusion Matrix:\")\n",
    "print(confusion_matrix(y_test, y_pred))\n",
    "print(\"ROC-AUC Score:\", roc_auc_score(y_test, y_proba[:, 1]))"
   ]
  },
  {
   "cell_type": "code",
   "execution_count": 10,
   "id": "194eeac5",
   "metadata": {},
   "outputs": [
    {
     "name": "stdout",
     "output_type": "stream",
     "text": [
      "Best Parameters: {'C': 0.1, 'max_iter': 2000, 'penalty': 'l2'}\n",
      "Best Score: 0.8587501447105925\n",
      "Accuracy (Optimized Model): 0.8857679973460135\n",
      "Classification Report (Optimized Model):\n",
      "              precision    recall  f1-score   support\n",
      "\n",
      "          no       0.90      0.98      0.94      7952\n",
      "         yes       0.58      0.20      0.30      1091\n",
      "\n",
      "    accuracy                           0.89      9043\n",
      "   macro avg       0.74      0.59      0.62      9043\n",
      "weighted avg       0.86      0.89      0.86      9043\n",
      "\n",
      "Confusion Matrix (Optimized Model):\n",
      "[[7791  161]\n",
      " [ 872  219]]\n",
      "ROC-AUC Score (Optimized Model): 0.853617350297938\n"
     ]
    }
   ],
   "source": [
    "from sklearn.model_selection import GridSearchCV\n",
    "\n",
    "# Define the hyperparameter space\n",
    "param_grid = {\n",
    "    'penalty': ['l1', 'l2'],\n",
    "    'C': [0.1, 1, 10],\n",
    "    'max_iter': [500, 1000, 2000]\n",
    "}\n",
    "\n",
    "grid_search = GridSearchCV(LogisticRegression(), param_grid, cv=5, scoring='roc_auc')\n",
    "\n",
    "# Perform the grid search\n",
    "grid_search.fit(X_train, y_train)\n",
    "\n",
    "# Print the best parameters and the corresponding score\n",
    "print(\"Best Parameters:\", grid_search.best_params_)\n",
    "print(\"Best Score:\", grid_search.best_score_)\n",
    "\n",
    "# Create an optimized model with the best parameters\n",
    "optimized_model = LogisticRegression(**grid_search.best_params_)\n",
    "optimized_model.fit(X_train, y_train)\n",
    "\n",
    "# Make predictions on the test set\n",
    "y_pred_optimized = optimized_model.predict(X_test)\n",
    "\n",
    "# Evaluate the optimized model\n",
    "print(\"Accuracy (Optimized Model):\", accuracy_score(y_test, y_pred_optimized))\n",
    "print(\"Classification Report (Optimized Model):\")\n",
    "print(classification_report(y_test, y_pred_optimized))\n",
    "print(\"Confusion Matrix (Optimized Model):\")\n",
    "print(confusion_matrix(y_test, y_pred_optimized))\n",
    "print(\"ROC-AUC Score (Optimized Model):\", roc_auc_score(y_test, optimized_model.predict_proba(X_test)[:, 1]))"
   ]
  },
  {
   "cell_type": "markdown",
   "id": "2b910d8b",
   "metadata": {},
   "source": [
    "#### 2. Have you used any hyperparameter tuning while building the model in Q1? If yes, then plot the performances that were obtained at different steps of optimisation. Otherwise, create an optimised model and compare performance with Q1."
   ]
  },
  {
   "cell_type": "code",
   "execution_count": 14,
   "id": "d19e5028",
   "metadata": {},
   "outputs": [
    {
     "data": {
      "image/png": "[encoded data removed]",
      "text/plain": [
       "<Figure size 1000x600 with 1 Axes>"
      ]
     },
     "metadata": {},
     "output_type": "display_data"
    }
   ],
   "source": [
    "# Plot the comparison\n",
    "plt.figure(figsize=(10, 6))\n",
    "sns.barplot(x=[\"Logistic Regression\", \"Optimized Model\"], y=[roc_auc_score(y_test, log_reg.predict_proba(X_test)[:, 1]), roc_auc_score(y_test, optimized_model.predict_proba(X_test)[:, 1])])\n",
    "plt.xlabel('Model')\n",
    "plt.ylabel('ROC-AUC Score')\n",
    "plt.title('Comparison of Logistic Regression and Optimized Model')\n",
    "plt.show()"
   ]
  },
  {
   "cell_type": "markdown",
   "id": "26fed753",
   "metadata": {},
   "source": [
    "* Both models performed with slightly same accuaracy with slight difference of optimized model performed better."
   ]
  },
  {
   "cell_type": "markdown",
   "id": "db85df67",
   "metadata": {},
   "source": [
    "#### 3. Create two ensemble ML models for predicting the target variable using the evaluation setting that you have used in Q1 and report the performance."
   ]
  },
  {
   "cell_type": "code",
   "execution_count": 15,
   "id": "54b59564",
   "metadata": {},
   "outputs": [
    {
     "name": "stdout",
     "output_type": "stream",
     "text": [
      "Random Forest Classifier Performance:\n",
      "ROC-AUC Score: 0.5433606491407303\n",
      "Standard Deviation: 0.09010307903713476\n"
     ]
    }
   ],
   "source": [
    "# Model1\n",
    "from sklearn.ensemble import RandomForestClassifier\n",
    "from sklearn.model_selection import cross_val_score\n",
    "\n",
    "# Create a random forest classifier\n",
    "rf_model = RandomForestClassifier(n_estimators=100, random_state=42)\n",
    "\n",
    "\n",
    "# Evaluate the model using cross-validation\n",
    "scores = cross_val_score(rf_model, X, y, cv=5, scoring='roc_auc')\n",
    "\n",
    "print(\"Random Forest Classifier Performance:\")\n",
    "print(\"ROC-AUC Score:\", scores.mean())\n",
    "print(\"Standard Deviation:\", scores.std())"
   ]
  },
  {
   "cell_type": "code",
   "execution_count": 20,
   "id": "f20e08d9",
   "metadata": {},
   "outputs": [
    {
     "name": "stdout",
     "output_type": "stream",
     "text": [
      "Accuracy: 0.8839986730067455\n",
      "Classification Report:\n",
      "              precision    recall  f1-score   support\n",
      "\n",
      "          no       0.90      0.98      0.94      7952\n",
      "         yes       0.56      0.18      0.27      1091\n",
      "\n",
      "    accuracy                           0.88      9043\n",
      "   macro avg       0.73      0.58      0.60      9043\n",
      "weighted avg       0.86      0.88      0.86      9043\n",
      "\n",
      "Confusion Matrix:\n",
      "[[7803  149]\n",
      " [ 900  191]]\n",
      "ROC-AUC Score: 0.9245165654790337\n"
     ]
    }
   ],
   "source": [
    "rf_model.fit(X_train, y_train)\n",
    "\n",
    "y_pred_rf = rf_model.predict(X_test)\n",
    "\n",
    "y_proba_rf = rf_model.predict_proba(X_test)\n",
    "\n",
    "# Evaluate the model\n",
    "print(\"Accuracy:\", accuracy_score(y_test, y_pred))\n",
    "print(\"Classification Report:\")\n",
    "print(classification_report(y_test, y_pred))\n",
    "print(\"Confusion Matrix:\")\n",
    "print(confusion_matrix(y_test, y_pred))\n",
    "print(\"ROC-AUC Score:\", roc_auc_score(y_test, y_proba_rf[:, 1]))"
   ]
  },
  {
   "cell_type": "code",
   "execution_count": 17,
   "id": "b571e593",
   "metadata": {},
   "outputs": [
    {
     "name": "stdout",
     "output_type": "stream",
     "text": [
      "Gradient Boosting Classifier Performance:\n",
      "ROC-AUC Score: 0.6669399860499718\n",
      "Standard Deviation: 0.09124171012079219\n"
     ]
    }
   ],
   "source": [
    "#Model2\n",
    "from sklearn.ensemble import GradientBoostingClassifier\n",
    "\n",
    "# Create a gradient boosting classifier\n",
    "gb_model = GradientBoostingClassifier(n_estimators=100, learning_rate=0.1, random_state=42)\n",
    "\n",
    "# Evaluate the model using cross-validation\n",
    "scores = cross_val_score(gb_model, X, y, cv=5, scoring='roc_auc')\n",
    "\n",
    "print(\"Gradient Boosting Classifier Performance:\")\n",
    "print(\"ROC-AUC Score:\", scores.mean())\n",
    "print(\"Standard Deviation:\", scores.std())"
   ]
  },
  {
   "cell_type": "code",
   "execution_count": 21,
   "id": "1a2d5df6",
   "metadata": {},
   "outputs": [
    {
     "name": "stdout",
     "output_type": "stream",
     "text": [
      "Accuracy: 0.8839986730067455\n",
      "Classification Report:\n",
      "              precision    recall  f1-score   support\n",
      "\n",
      "          no       0.90      0.98      0.94      7952\n",
      "         yes       0.56      0.18      0.27      1091\n",
      "\n",
      "    accuracy                           0.88      9043\n",
      "   macro avg       0.73      0.58      0.60      9043\n",
      "weighted avg       0.86      0.88      0.86      9043\n",
      "\n",
      "Confusion Matrix:\n",
      "[[7803  149]\n",
      " [ 900  191]]\n",
      "ROC-AUC Score: 0.9203368123498091\n"
     ]
    }
   ],
   "source": [
    "gb_model.fit(X_train, y_train)\n",
    "\n",
    "y_pred_gb = gb_model.predict(X_test)\n",
    "\n",
    "y_proba_gb = gb_model.predict_proba(X_test)\n",
    "\n",
    "# Evaluate the model\n",
    "print(\"Accuracy:\", accuracy_score(y_test, y_pred))\n",
    "print(\"Classification Report:\")\n",
    "print(classification_report(y_test, y_pred))\n",
    "print(\"Confusion Matrix:\")\n",
    "print(confusion_matrix(y_test, y_pred))\n",
    "print(\"ROC-AUC Score:\", roc_auc_score(y_test, y_proba_gb[:, 1]))"
   ]
  },
  {
   "cell_type": "markdown",
   "id": "12734b91",
   "metadata": {},
   "source": [
    "#### 4. Compare the performance of the three models (Q1 and Q3), explain which model is good and why"
   ]
  },
  {
   "cell_type": "code",
   "execution_count": 26,
   "id": "1cb0bd51",
   "metadata": {},
   "outputs": [
    {
     "data": {
      "image/png": "[encoded data removed]",
      "text/plain": [
       "<Figure size 800x600 with 1 Axes>"
      ]
     },
     "metadata": {},
     "output_type": "display_data"
    }
   ],
   "source": [
    "import matplotlib.pyplot as plt\n",
    "from sklearn.metrics import roc_curve, auc\n",
    "\n",
    "\n",
    "y_test_binary = y_test.map({'no': 0, 'yes': 1})\n",
    "# Calculate the ROC-AUC curve for each model\n",
    "fpr_lr, tpr_lr, _ = roc_curve(y_test_binary, y_proba[:, 1])\n",
    "fpr_rf, tpr_rf, _ = roc_curve(y_test_binary, y_proba_rf[:, 1])\n",
    "fpr_gb, tpr_gb, _ = roc_curve(y_test_binary, y_proba_gb[:, 1])\n",
    "\n",
    "# Calculate the AUC for each model\n",
    "auc_lr = auc(fpr_lr, tpr_lr)\n",
    "auc_rf = auc(fpr_rf, tpr_rf)\n",
    "auc_gb = auc(fpr_gb, tpr_gb)\n",
    "\n",
    "# Plot the ROC-AUC curve for each model\n",
    "plt.figure(figsize=(8, 6))\n",
    "plt.plot(fpr_lr, tpr_lr, label='Logistic Regression (AUC = {:.3f})'.format(auc_lr))\n",
    "plt.plot(fpr_rf, tpr_rf, label='Random Forest (AUC = {:.3f})'.format(auc_rf))\n",
    "plt.plot(fpr_gb, tpr_gb, label='Gradient Boosting (AUC = {:.3f})'.format(auc_gb))\n",
    "plt.plot([0, 1], [0, 1], 'k--')  # random chance line\n",
    "plt.xlabel('False Positive Rate')\n",
    "plt.ylabel('True Positive Rate')\n",
    "plt.title('ROC-AUC Curve Comparison')\n",
    "plt.legend(loc='best')\n",
    "plt.show()"
   ]
  },
  {
   "cell_type": "markdown",
   "id": "f0383483",
   "metadata": {},
   "source": [
    "## Conclusion:\n",
    "\n",
    "* Compare to Logistic regression model, the ensemble models performed better with 88% accuracy with the roc-auc score of 0.92."
   ]
  },
  {
   "cell_type": "markdown",
   "id": "b666ae24",
   "metadata": {},
   "source": [
    "## REFERENCES\n",
    "\n",
    "1) “UCI Machine Learning Repository,” archive.ics.uci.edu. https://archive.ics.uci.edu/dataset/222/bank+marketing\n"
   ]
  }
 ],
 "metadata": {
  "kernelspec": {
   "display_name": "Python 3 (ipykernel)",
   "language": "python",
   "name": "python3"
  },
  "language_info": {
   "codemirror_mode": {
    "name": "ipython",
    "version": 3
   },
   "file_extension": ".py",
   "mimetype": "text/x-python",
   "name": "python",
   "nbconvert_exporter": "python",
   "pygments_lexer": "ipython3",
   "version": "3.11.7"
  }
 },
 "nbformat": 4,
 "nbformat_minor": 5
}
